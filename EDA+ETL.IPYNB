{
 "cells": [
  {
   "cell_type": "markdown",
   "metadata": {},
   "source": [
    "#### Import necessary libraries"
   ]
  },
  {
   "cell_type": "code",
   "execution_count": 3,
   "metadata": {},
   "outputs": [],
   "source": [
    "import pandas as pd\n",
    "import matplotlib.pyplot as plt\n",
    "import numpy as np\n",
    "import geopandas as gpd"
   ]
  },
  {
   "cell_type": "markdown",
   "metadata": {},
   "source": [
    "#### Open and save each excel's sheet into a  pandas dataframe"
   ]
  },
  {
   "cell_type": "code",
   "execution_count": 84,
   "metadata": {},
   "outputs": [],
   "source": [
    "sheets = ['HECHOS','VICTIMAS']\n",
    "\n",
    "# Open the excel file\n",
    "excel_file = pd.ExcelFile('data\\lesiones.xlsx')\n",
    "\n",
    "# Empty dict dor dataframe storing\n",
    "dfs = {}\n",
    "\n",
    "# Iterate through each sheet\n",
    "for sheet_name in sheets:\n",
    "    # save each sheet into a DataFrame\n",
    "    df = excel_file.parse(sheet_name)\n",
    "    \n",
    "    # Store the DataFrame in the dict with the sheet name as the key\n",
    "    dfs[sheet_name] = df\n",
    "\n",
    "hechos = dfs['HECHOS']\n",
    "victimas = dfs['VICTIMAS']"
   ]
  },
  {
   "cell_type": "code",
   "execution_count": 4,
   "metadata": {},
   "outputs": [],
   "source": [
    "homicidios_hechos = pd.read_excel('data\\homicidios.xlsx',sheet_name='HECHOS')\n",
    "homicidios_victimas = pd.read_excel('data\\homicidios.xlsx',sheet_name='VICTIMAS')"
   ]
  },
  {
   "cell_type": "code",
   "execution_count": 4,
   "metadata": {},
   "outputs": [],
   "source": [
    "municipios = gpd.read_file(\"data\\municipio.json\" )"
   ]
  },
  {
   "cell_type": "markdown",
   "metadata": {},
   "source": [
    "## Exploring the columns and keeping relevant columns in hechos dataframe"
   ]
  },
  {
   "cell_type": "code",
   "execution_count": 6,
   "metadata": {},
   "outputs": [
    {
     "data": {
      "text/html": [
       "<div>\n",
       "<style scoped>\n",
       "    .dataframe tbody tr th:only-of-type {\n",
       "        vertical-align: middle;\n",
       "    }\n",
       "\n",
       "    .dataframe tbody tr th {\n",
       "        vertical-align: top;\n",
       "    }\n",
       "\n",
       "    .dataframe thead th {\n",
       "        text-align: right;\n",
       "    }\n",
       "</style>\n",
       "<table border=\"1\" class=\"dataframe\">\n",
       "  <thead>\n",
       "    <tr style=\"text-align: right;\">\n",
       "      <th></th>\n",
       "      <th>ID</th>\n",
       "      <th>N_VICTIMAS</th>\n",
       "      <th>FECHA</th>\n",
       "      <th>AAAA</th>\n",
       "      <th>MM</th>\n",
       "      <th>DD</th>\n",
       "      <th>HORA</th>\n",
       "      <th>HH</th>\n",
       "      <th>LUGAR_DEL_HECHO</th>\n",
       "      <th>TIPO_DE_CALLE</th>\n",
       "      <th>...</th>\n",
       "      <th>Altura</th>\n",
       "      <th>Cruce</th>\n",
       "      <th>Dirección Normalizada</th>\n",
       "      <th>COMUNA</th>\n",
       "      <th>XY (CABA)</th>\n",
       "      <th>pos x</th>\n",
       "      <th>pos y</th>\n",
       "      <th>PARTICIPANTES</th>\n",
       "      <th>VICTIMA</th>\n",
       "      <th>ACUSADO</th>\n",
       "    </tr>\n",
       "  </thead>\n",
       "  <tbody>\n",
       "    <tr>\n",
       "      <th>0</th>\n",
       "      <td>2016-0001</td>\n",
       "      <td>1</td>\n",
       "      <td>2016-01-01</td>\n",
       "      <td>2016</td>\n",
       "      <td>1</td>\n",
       "      <td>1</td>\n",
       "      <td>04:00:00</td>\n",
       "      <td>4</td>\n",
       "      <td>AV PIEDRA BUENA Y AV FERNANDEZ DE LA CRUZ</td>\n",
       "      <td>AVENIDA</td>\n",
       "      <td>...</td>\n",
       "      <td>NaN</td>\n",
       "      <td>FERNANDEZ DE LA CRUZ, F., GRAL. AV.</td>\n",
       "      <td>PIEDRA BUENA AV. y FERNANDEZ DE LA CRUZ, F., G...</td>\n",
       "      <td>8</td>\n",
       "      <td>Point (98896.78238426 93532.43437792)</td>\n",
       "      <td>-58.47533969</td>\n",
       "      <td>-34.68757022</td>\n",
       "      <td>MOTO-AUTO</td>\n",
       "      <td>MOTO</td>\n",
       "      <td>AUTO</td>\n",
       "    </tr>\n",
       "    <tr>\n",
       "      <th>1</th>\n",
       "      <td>2016-0002</td>\n",
       "      <td>1</td>\n",
       "      <td>2016-01-02</td>\n",
       "      <td>2016</td>\n",
       "      <td>1</td>\n",
       "      <td>2</td>\n",
       "      <td>01:15:00</td>\n",
       "      <td>1</td>\n",
       "      <td>AV GRAL PAZ  Y AV DE LOS CORRALES</td>\n",
       "      <td>GRAL PAZ</td>\n",
       "      <td>...</td>\n",
       "      <td>NaN</td>\n",
       "      <td>DE LOS CORRALES AV.</td>\n",
       "      <td>PAZ, GRAL. AV. y DE LOS CORRALES AV.</td>\n",
       "      <td>9</td>\n",
       "      <td>Point (95832.05571093 95505.41641999)</td>\n",
       "      <td>-58.50877521</td>\n",
       "      <td>-34.66977709</td>\n",
       "      <td>AUTO-PASAJEROS</td>\n",
       "      <td>AUTO</td>\n",
       "      <td>PASAJEROS</td>\n",
       "    </tr>\n",
       "  </tbody>\n",
       "</table>\n",
       "<p>2 rows × 21 columns</p>\n",
       "</div>"
      ],
      "text/plain": [
       "          ID  N_VICTIMAS      FECHA  AAAA  MM  DD      HORA HH  \\\n",
       "0  2016-0001           1 2016-01-01  2016   1   1  04:00:00  4   \n",
       "1  2016-0002           1 2016-01-02  2016   1   2  01:15:00  1   \n",
       "\n",
       "                             LUGAR_DEL_HECHO TIPO_DE_CALLE  ... Altura  \\\n",
       "0  AV PIEDRA BUENA Y AV FERNANDEZ DE LA CRUZ       AVENIDA  ...    NaN   \n",
       "1          AV GRAL PAZ  Y AV DE LOS CORRALES      GRAL PAZ  ...    NaN   \n",
       "\n",
       "                                 Cruce  \\\n",
       "0  FERNANDEZ DE LA CRUZ, F., GRAL. AV.   \n",
       "1                  DE LOS CORRALES AV.   \n",
       "\n",
       "                               Dirección Normalizada COMUNA  \\\n",
       "0  PIEDRA BUENA AV. y FERNANDEZ DE LA CRUZ, F., G...      8   \n",
       "1               PAZ, GRAL. AV. y DE LOS CORRALES AV.      9   \n",
       "\n",
       "                               XY (CABA)         pos x         pos y  \\\n",
       "0  Point (98896.78238426 93532.43437792)  -58.47533969  -34.68757022   \n",
       "1  Point (95832.05571093 95505.41641999)  -58.50877521  -34.66977709   \n",
       "\n",
       "    PARTICIPANTES VICTIMA    ACUSADO  \n",
       "0       MOTO-AUTO    MOTO       AUTO  \n",
       "1  AUTO-PASAJEROS    AUTO  PASAJEROS  \n",
       "\n",
       "[2 rows x 21 columns]"
      ]
     },
     "execution_count": 6,
     "metadata": {},
     "output_type": "execute_result"
    }
   ],
   "source": [
    "homicidios_hechos.head(2)"
   ]
  },
  {
   "cell_type": "code",
   "execution_count": 7,
   "metadata": {},
   "outputs": [
    {
     "data": {
      "text/plain": [
       "Index(['ID', 'N_VICTIMAS', 'FECHA', 'AAAA', 'MM', 'DD', 'HORA', 'HH',\n",
       "       'LUGAR_DEL_HECHO', 'TIPO_DE_CALLE', 'Calle', 'Altura', 'Cruce',\n",
       "       'Dirección Normalizada', 'COMUNA', 'XY (CABA)', 'pos x', 'pos y',\n",
       "       'PARTICIPANTES', 'VICTIMA', 'ACUSADO'],\n",
       "      dtype='object')"
      ]
     },
     "execution_count": 7,
     "metadata": {},
     "output_type": "execute_result"
    }
   ],
   "source": [
    "homicidios_hechos.columns # drop 'Altura', 'Cruce', 'Direccion Normalizada', 'XY (CABA)'"
   ]
  },
  {
   "cell_type": "code",
   "execution_count": 8,
   "metadata": {},
   "outputs": [
    {
     "data": {
      "text/html": [
       "<div>\n",
       "<style scoped>\n",
       "    .dataframe tbody tr th:only-of-type {\n",
       "        vertical-align: middle;\n",
       "    }\n",
       "\n",
       "    .dataframe tbody tr th {\n",
       "        vertical-align: top;\n",
       "    }\n",
       "\n",
       "    .dataframe thead th {\n",
       "        text-align: right;\n",
       "    }\n",
       "</style>\n",
       "<table border=\"1\" class=\"dataframe\">\n",
       "  <thead>\n",
       "    <tr style=\"text-align: right;\">\n",
       "      <th></th>\n",
       "      <th>ID_hecho</th>\n",
       "      <th>FECHA</th>\n",
       "      <th>AAAA</th>\n",
       "      <th>MM</th>\n",
       "      <th>DD</th>\n",
       "      <th>ROL</th>\n",
       "      <th>VICTIMA</th>\n",
       "      <th>SEXO</th>\n",
       "      <th>EDAD</th>\n",
       "      <th>FECHA_FALLECIMIENTO</th>\n",
       "    </tr>\n",
       "  </thead>\n",
       "  <tbody>\n",
       "    <tr>\n",
       "      <th>0</th>\n",
       "      <td>2016-0001</td>\n",
       "      <td>2016-01-01</td>\n",
       "      <td>2016</td>\n",
       "      <td>1</td>\n",
       "      <td>1</td>\n",
       "      <td>CONDUCTOR</td>\n",
       "      <td>MOTO</td>\n",
       "      <td>MASCULINO</td>\n",
       "      <td>19</td>\n",
       "      <td>2016-01-01 00:00:00</td>\n",
       "    </tr>\n",
       "    <tr>\n",
       "      <th>1</th>\n",
       "      <td>2016-0002</td>\n",
       "      <td>2016-01-02</td>\n",
       "      <td>2016</td>\n",
       "      <td>1</td>\n",
       "      <td>2</td>\n",
       "      <td>CONDUCTOR</td>\n",
       "      <td>AUTO</td>\n",
       "      <td>MASCULINO</td>\n",
       "      <td>70</td>\n",
       "      <td>2016-01-02 00:00:00</td>\n",
       "    </tr>\n",
       "  </tbody>\n",
       "</table>\n",
       "</div>"
      ],
      "text/plain": [
       "    ID_hecho      FECHA  AAAA  MM  DD        ROL VICTIMA       SEXO EDAD  \\\n",
       "0  2016-0001 2016-01-01  2016   1   1  CONDUCTOR    MOTO  MASCULINO   19   \n",
       "1  2016-0002 2016-01-02  2016   1   2  CONDUCTOR    AUTO  MASCULINO   70   \n",
       "\n",
       "   FECHA_FALLECIMIENTO  \n",
       "0  2016-01-01 00:00:00  \n",
       "1  2016-01-02 00:00:00  "
      ]
     },
     "execution_count": 8,
     "metadata": {},
     "output_type": "execute_result"
    }
   ],
   "source": [
    "homicidios_victimas.head(2)"
   ]
  },
  {
   "cell_type": "code",
   "execution_count": 85,
   "metadata": {},
   "outputs": [
    {
     "data": {
      "text/html": [
       "<div>\n",
       "<style scoped>\n",
       "    .dataframe tbody tr th:only-of-type {\n",
       "        vertical-align: middle;\n",
       "    }\n",
       "\n",
       "    .dataframe tbody tr th {\n",
       "        vertical-align: top;\n",
       "    }\n",
       "\n",
       "    .dataframe thead th {\n",
       "        text-align: right;\n",
       "    }\n",
       "</style>\n",
       "<table border=\"1\" class=\"dataframe\">\n",
       "  <thead>\n",
       "    <tr style=\"text-align: right;\">\n",
       "      <th></th>\n",
       "      <th>id</th>\n",
       "      <th>n_victimas</th>\n",
       "      <th>aaaa</th>\n",
       "      <th>mm</th>\n",
       "      <th>dd</th>\n",
       "      <th>fecha</th>\n",
       "      <th>hora</th>\n",
       "      <th>franja_hora</th>\n",
       "      <th>direccion_normalizada</th>\n",
       "      <th>comuna</th>\n",
       "      <th>...</th>\n",
       "      <th>latutid</th>\n",
       "      <th>victima</th>\n",
       "      <th>acusado</th>\n",
       "      <th>participantes</th>\n",
       "      <th>moto</th>\n",
       "      <th>auto</th>\n",
       "      <th>transporte_publico</th>\n",
       "      <th>camion</th>\n",
       "      <th>ciclista</th>\n",
       "      <th>gravedad</th>\n",
       "    </tr>\n",
       "  </thead>\n",
       "  <tbody>\n",
       "    <tr>\n",
       "      <th>0</th>\n",
       "      <td>LC-2019-0000179</td>\n",
       "      <td>1</td>\n",
       "      <td>2019</td>\n",
       "      <td>1</td>\n",
       "      <td>1</td>\n",
       "      <td>2019-01-01 00:00:00</td>\n",
       "      <td>09:00:00</td>\n",
       "      <td>9</td>\n",
       "      <td>SD</td>\n",
       "      <td>14</td>\n",
       "      <td>...</td>\n",
       "      <td>-34.559658</td>\n",
       "      <td>CICLISTA</td>\n",
       "      <td>SD</td>\n",
       "      <td>CICLISTA-SD</td>\n",
       "      <td>SD</td>\n",
       "      <td>SD</td>\n",
       "      <td>SD</td>\n",
       "      <td>SD</td>\n",
       "      <td>x</td>\n",
       "      <td>SD</td>\n",
       "    </tr>\n",
       "    <tr>\n",
       "      <th>1</th>\n",
       "      <td>LC-2019-0000053</td>\n",
       "      <td>1</td>\n",
       "      <td>2019</td>\n",
       "      <td>1</td>\n",
       "      <td>1</td>\n",
       "      <td>2019-01-01 00:00:00</td>\n",
       "      <td>01:55:00</td>\n",
       "      <td>1</td>\n",
       "      <td>SD</td>\n",
       "      <td>8</td>\n",
       "      <td>...</td>\n",
       "      <td>-34.669125</td>\n",
       "      <td>AUTO</td>\n",
       "      <td>SD</td>\n",
       "      <td>AUTO-SD</td>\n",
       "      <td>SD</td>\n",
       "      <td>x</td>\n",
       "      <td>SD</td>\n",
       "      <td>SD</td>\n",
       "      <td>SD</td>\n",
       "      <td>SD</td>\n",
       "    </tr>\n",
       "  </tbody>\n",
       "</table>\n",
       "<p>2 rows × 27 columns</p>\n",
       "</div>"
      ],
      "text/plain": [
       "                id  n_victimas  aaaa  mm  dd                fecha      hora  \\\n",
       "0  LC-2019-0000179           1  2019   1   1  2019-01-01 00:00:00  09:00:00   \n",
       "1  LC-2019-0000053           1  2019   1   1  2019-01-01 00:00:00  01:55:00   \n",
       "\n",
       "  franja_hora direccion_normalizada comuna  ...     latutid   victima acusado  \\\n",
       "0           9                    SD     14  ...  -34.559658  CICLISTA      SD   \n",
       "1           1                    SD      8  ...  -34.669125      AUTO      SD   \n",
       "\n",
       "   participantes moto auto transporte_publico camion ciclista gravedad  \n",
       "0    CICLISTA-SD   SD   SD                 SD     SD        x       SD  \n",
       "1        AUTO-SD   SD    x                 SD     SD       SD       SD  \n",
       "\n",
       "[2 rows x 27 columns]"
      ]
     },
     "execution_count": 85,
     "metadata": {},
     "output_type": "execute_result"
    }
   ],
   "source": [
    "hechos.head(2)  # 23785 rows × 27 columns"
   ]
  },
  {
   "cell_type": "code",
   "execution_count": 10,
   "metadata": {},
   "outputs": [
    {
     "data": {
      "text/plain": [
       "Index(['id', 'n_victimas', 'aaaa', 'mm', 'dd', 'fecha', 'hora', 'franja_hora',\n",
       "       'direccion_normalizada', 'comuna', 'tipo_calle', 'otra_direccion',\n",
       "       'calle', 'altura', 'cruce', 'geocodificacion_CABA', 'longitud',\n",
       "       'latutid', 'victima', 'acusado', 'participantes', 'moto', 'auto',\n",
       "       'transporte_publico', 'camion', 'ciclista', 'gravedad'],\n",
       "      dtype='object')"
      ]
     },
     "execution_count": 10,
     "metadata": {},
     "output_type": "execute_result"
    }
   ],
   "source": [
    "hechos.columns #drop  otra_direccion, direccion_normalizada, calle, altura, cruce, geocodificacion_CABA, 'moto', 'auto', 'transporte_publico', 'camion', 'ciclista' "
   ]
  },
  {
   "cell_type": "markdown",
   "metadata": {},
   "source": [
    "#### Dropping unncesesary columns to the analysis"
   ]
  },
  {
   "cell_type": "code",
   "execution_count": 86,
   "metadata": {},
   "outputs": [],
   "source": [
    "hechos.drop(columns=[ 'otra_direccion', 'direccion_normalizada', 'calle', 'altura', 'cruce', 'geocodificacion_CABA', 'participantes', 'moto', 'auto',\n",
    "       'transporte_publico', 'camion', 'ciclista'], inplace = True)\n",
    "hechos.rename( columns={'latutid':'latitud'}, inplace= True)"
   ]
  },
  {
   "cell_type": "code",
   "execution_count": 87,
   "metadata": {},
   "outputs": [
    {
     "data": {
      "text/html": [
       "<div>\n",
       "<style scoped>\n",
       "    .dataframe tbody tr th:only-of-type {\n",
       "        vertical-align: middle;\n",
       "    }\n",
       "\n",
       "    .dataframe tbody tr th {\n",
       "        vertical-align: top;\n",
       "    }\n",
       "\n",
       "    .dataframe thead th {\n",
       "        text-align: right;\n",
       "    }\n",
       "</style>\n",
       "<table border=\"1\" class=\"dataframe\">\n",
       "  <thead>\n",
       "    <tr style=\"text-align: right;\">\n",
       "      <th></th>\n",
       "      <th>id</th>\n",
       "      <th>n_victimas</th>\n",
       "      <th>aaaa</th>\n",
       "      <th>mm</th>\n",
       "      <th>dd</th>\n",
       "      <th>fecha</th>\n",
       "      <th>hora</th>\n",
       "      <th>franja_hora</th>\n",
       "      <th>comuna</th>\n",
       "      <th>tipo_calle</th>\n",
       "      <th>longitud</th>\n",
       "      <th>latitud</th>\n",
       "      <th>victima</th>\n",
       "      <th>acusado</th>\n",
       "      <th>gravedad</th>\n",
       "    </tr>\n",
       "  </thead>\n",
       "  <tbody>\n",
       "    <tr>\n",
       "      <th>0</th>\n",
       "      <td>LC-2019-0000179</td>\n",
       "      <td>1</td>\n",
       "      <td>2019</td>\n",
       "      <td>1</td>\n",
       "      <td>1</td>\n",
       "      <td>2019-01-01 00:00:00</td>\n",
       "      <td>09:00:00</td>\n",
       "      <td>9</td>\n",
       "      <td>14</td>\n",
       "      <td>SD</td>\n",
       "      <td>-58.408911</td>\n",
       "      <td>-34.559658</td>\n",
       "      <td>CICLISTA</td>\n",
       "      <td>SD</td>\n",
       "      <td>SD</td>\n",
       "    </tr>\n",
       "    <tr>\n",
       "      <th>1</th>\n",
       "      <td>LC-2019-0000053</td>\n",
       "      <td>1</td>\n",
       "      <td>2019</td>\n",
       "      <td>1</td>\n",
       "      <td>1</td>\n",
       "      <td>2019-01-01 00:00:00</td>\n",
       "      <td>01:55:00</td>\n",
       "      <td>1</td>\n",
       "      <td>8</td>\n",
       "      <td>SD</td>\n",
       "      <td>-58.44351</td>\n",
       "      <td>-34.669125</td>\n",
       "      <td>AUTO</td>\n",
       "      <td>SD</td>\n",
       "      <td>SD</td>\n",
       "    </tr>\n",
       "  </tbody>\n",
       "</table>\n",
       "</div>"
      ],
      "text/plain": [
       "                id  n_victimas  aaaa  mm  dd                fecha      hora  \\\n",
       "0  LC-2019-0000179           1  2019   1   1  2019-01-01 00:00:00  09:00:00   \n",
       "1  LC-2019-0000053           1  2019   1   1  2019-01-01 00:00:00  01:55:00   \n",
       "\n",
       "  franja_hora comuna tipo_calle    longitud     latitud   victima acusado  \\\n",
       "0           9     14         SD  -58.408911  -34.559658  CICLISTA      SD   \n",
       "1           1      8         SD   -58.44351  -34.669125      AUTO      SD   \n",
       "\n",
       "  gravedad  \n",
       "0       SD  \n",
       "1       SD  "
      ]
     },
     "execution_count": 87,
     "metadata": {},
     "output_type": "execute_result"
    }
   ],
   "source": [
    "\n",
    "hechos.head(2)"
   ]
  },
  {
   "cell_type": "code",
   "execution_count": 13,
   "metadata": {},
   "outputs": [
    {
     "data": {
      "text/html": [
       "<div>\n",
       "<style scoped>\n",
       "    .dataframe tbody tr th:only-of-type {\n",
       "        vertical-align: middle;\n",
       "    }\n",
       "\n",
       "    .dataframe tbody tr th {\n",
       "        vertical-align: top;\n",
       "    }\n",
       "\n",
       "    .dataframe thead th {\n",
       "        text-align: right;\n",
       "    }\n",
       "</style>\n",
       "<table border=\"1\" class=\"dataframe\">\n",
       "  <thead>\n",
       "    <tr style=\"text-align: right;\">\n",
       "      <th></th>\n",
       "      <th>ID</th>\n",
       "      <th>N_VICTIMAS</th>\n",
       "      <th>FECHA</th>\n",
       "      <th>AAAA</th>\n",
       "      <th>MM</th>\n",
       "      <th>DD</th>\n",
       "      <th>HORA</th>\n",
       "      <th>HH</th>\n",
       "      <th>LUGAR_DEL_HECHO</th>\n",
       "      <th>TIPO_DE_CALLE</th>\n",
       "      <th>Calle</th>\n",
       "      <th>COMUNA</th>\n",
       "      <th>pos x</th>\n",
       "      <th>pos y</th>\n",
       "      <th>PARTICIPANTES</th>\n",
       "      <th>VICTIMA</th>\n",
       "      <th>ACUSADO</th>\n",
       "    </tr>\n",
       "  </thead>\n",
       "  <tbody>\n",
       "    <tr>\n",
       "      <th>0</th>\n",
       "      <td>2016-0001</td>\n",
       "      <td>1</td>\n",
       "      <td>2016-01-01</td>\n",
       "      <td>2016</td>\n",
       "      <td>1</td>\n",
       "      <td>1</td>\n",
       "      <td>04:00:00</td>\n",
       "      <td>4</td>\n",
       "      <td>AV PIEDRA BUENA Y AV FERNANDEZ DE LA CRUZ</td>\n",
       "      <td>AVENIDA</td>\n",
       "      <td>PIEDRA BUENA AV.</td>\n",
       "      <td>8</td>\n",
       "      <td>-58.47533969</td>\n",
       "      <td>-34.68757022</td>\n",
       "      <td>MOTO-AUTO</td>\n",
       "      <td>MOTO</td>\n",
       "      <td>AUTO</td>\n",
       "    </tr>\n",
       "    <tr>\n",
       "      <th>1</th>\n",
       "      <td>2016-0002</td>\n",
       "      <td>1</td>\n",
       "      <td>2016-01-02</td>\n",
       "      <td>2016</td>\n",
       "      <td>1</td>\n",
       "      <td>2</td>\n",
       "      <td>01:15:00</td>\n",
       "      <td>1</td>\n",
       "      <td>AV GRAL PAZ  Y AV DE LOS CORRALES</td>\n",
       "      <td>GRAL PAZ</td>\n",
       "      <td>PAZ, GRAL. AV.</td>\n",
       "      <td>9</td>\n",
       "      <td>-58.50877521</td>\n",
       "      <td>-34.66977709</td>\n",
       "      <td>AUTO-PASAJEROS</td>\n",
       "      <td>AUTO</td>\n",
       "      <td>PASAJEROS</td>\n",
       "    </tr>\n",
       "  </tbody>\n",
       "</table>\n",
       "</div>"
      ],
      "text/plain": [
       "          ID  N_VICTIMAS      FECHA  AAAA  MM  DD      HORA HH  \\\n",
       "0  2016-0001           1 2016-01-01  2016   1   1  04:00:00  4   \n",
       "1  2016-0002           1 2016-01-02  2016   1   2  01:15:00  1   \n",
       "\n",
       "                             LUGAR_DEL_HECHO TIPO_DE_CALLE             Calle  \\\n",
       "0  AV PIEDRA BUENA Y AV FERNANDEZ DE LA CRUZ       AVENIDA  PIEDRA BUENA AV.   \n",
       "1          AV GRAL PAZ  Y AV DE LOS CORRALES      GRAL PAZ    PAZ, GRAL. AV.   \n",
       "\n",
       "   COMUNA         pos x         pos y   PARTICIPANTES VICTIMA    ACUSADO  \n",
       "0       8  -58.47533969  -34.68757022       MOTO-AUTO    MOTO       AUTO  \n",
       "1       9  -58.50877521  -34.66977709  AUTO-PASAJEROS    AUTO  PASAJEROS  "
      ]
     },
     "execution_count": 13,
     "metadata": {},
     "output_type": "execute_result"
    }
   ],
   "source": [
    "homicidios_hechos.drop( columns= ['Altura', 'Cruce', 'Dirección Normalizada', 'XY (CABA)'], inplace= True)\n",
    "homicidios_hechos.head(2)"
   ]
  },
  {
   "cell_type": "code",
   "execution_count": 14,
   "metadata": {},
   "outputs": [],
   "source": [
    "homicidios_hechos.rename( columns={'pos x':'longitud', 'pos y':'latitud'}, inplace=True)"
   ]
  },
  {
   "cell_type": "markdown",
   "metadata": {},
   "source": [
    "### Well, now we hace all necesary dataframes, the merge between HECHOS and VICTIMAS from both homicidios y lesiones will be perform in power bi."
   ]
  },
  {
   "cell_type": "code",
   "execution_count": 15,
   "metadata": {},
   "outputs": [],
   "source": [
    "# helps by counting the number of unique values in each column\n",
    "def unique_count_per_column(df):\n",
    "    unique_counts = df.nunique()\n",
    "    return unique_counts"
   ]
  },
  {
   "cell_type": "code",
   "execution_count": 16,
   "metadata": {},
   "outputs": [
    {
     "data": {
      "text/plain": [
       "id             23785\n",
       "n_victimas        11\n",
       "aaaa               3\n",
       "mm                12\n",
       "dd                31\n",
       "fecha           1097\n",
       "hora            2043\n",
       "franja_hora       25\n",
       "comuna            17\n",
       "longitud       13810\n",
       "latitud        13757\n",
       "victima           14\n",
       "acusado           14\n",
       "gravedad           5\n",
       "dtype: int64"
      ]
     },
     "execution_count": 16,
     "metadata": {},
     "output_type": "execute_result"
    }
   ],
   "source": [
    "unique_count_per_column(hechos) # id column has unique values, there is no duplicates"
   ]
  },
  {
   "cell_type": "code",
   "execution_count": 17,
   "metadata": {},
   "outputs": [
    {
     "data": {
      "text/plain": [
       "ID                 696\n",
       "N_VICTIMAS           3\n",
       "FECHA              598\n",
       "AAAA                 6\n",
       "MM                  12\n",
       "DD                  31\n",
       "HORA               375\n",
       "HH                  25\n",
       "LUGAR_DEL_HECHO    683\n",
       "TIPO_DE_CALLE        4\n",
       "Calle              279\n",
       "COMUNA              16\n",
       "longitud           605\n",
       "latitud            605\n",
       "PARTICIPANTES       41\n",
       "VICTIMA             10\n",
       "ACUSADO             10\n",
       "dtype: int64"
      ]
     },
     "execution_count": 17,
     "metadata": {},
     "output_type": "execute_result"
    }
   ],
   "source": [
    "unique_count_per_column(homicidios_hechos)"
   ]
  },
  {
   "cell_type": "code",
   "execution_count": 18,
   "metadata": {},
   "outputs": [
    {
     "data": {
      "text/plain": [
       "array([4, 1, 7, 0, 5, 18, 19, 15, 11, 22, 16, 9, 23, 6, 10, 17, 12, 8, 20,\n",
       "       21, 14, 3, 2, 13, 'SD'], dtype=object)"
      ]
     },
     "execution_count": 18,
     "metadata": {},
     "output_type": "execute_result"
    }
   ],
   "source": [
    "homicidios_hechos.HH.unique() # Needs to be replaced 'SD' to 99 for easy data type handling"
   ]
  },
  {
   "cell_type": "code",
   "execution_count": 19,
   "metadata": {},
   "outputs": [],
   "source": [
    "homicidios_hechos.HH = homicidios_hechos.HH.replace('SD', 99)"
   ]
  },
  {
   "cell_type": "code",
   "execution_count": 20,
   "metadata": {},
   "outputs": [],
   "source": [
    "# Extract the time portion from datetime values and keep all time values\n",
    "homicidios_hechos['HORA'] = pd.to_datetime(homicidios_hechos['HORA'], errors='coerce').dt.time\n",
    "\n",
    "# Filter rows where 'HORA' is not null\n",
    "filtered_values = homicidios_hechos[homicidios_hechos['HORA'].notnull()]\n"
   ]
  },
  {
   "cell_type": "code",
   "execution_count": 88,
   "metadata": {},
   "outputs": [
    {
     "data": {
      "text/plain": [
       "array([ 1,  4,  2,  3,  5, 10,  6, 16,  8,  0,  7], dtype=int64)"
      ]
     },
     "execution_count": 88,
     "metadata": {},
     "output_type": "execute_result"
    }
   ],
   "source": [
    "hechos.n_victimas.unique() # All seems normal except for the 0, which might be an outlier. We'll see later."
   ]
  },
  {
   "cell_type": "markdown",
   "metadata": {},
   "source": [
    "#### from this unique count we can see that: year, month, day have the espected values. It can be cheacked by:"
   ]
  },
  {
   "cell_type": "code",
   "execution_count": 22,
   "metadata": {},
   "outputs": [
    {
     "data": {
      "text/plain": [
       "array([ 1,  2,  3,  4,  5,  6,  7,  8,  9, 10, 11, 12, 13, 14, 15, 16, 17,\n",
       "       18, 19, 20, 21, 22, 23, 24, 25, 26, 27, 28, 29, 30, 31],\n",
       "      dtype=int64)"
      ]
     },
     "execution_count": 22,
     "metadata": {},
     "output_type": "execute_result"
    }
   ],
   "source": [
    "hechos.aaaa.unique()\n",
    "hechos.mm.unique()\n",
    "hechos.dd.unique()"
   ]
  },
  {
   "cell_type": "markdown",
   "metadata": {},
   "source": [
    "Converting to time the hora column ignoring the 'SD' values"
   ]
  },
  {
   "cell_type": "code",
   "execution_count": 89,
   "metadata": {},
   "outputs": [],
   "source": [
    "hechos['hora'] = pd.to_datetime(hechos['hora'], format='%H:%M:%S', errors = 'coerce').dt.time"
   ]
  },
  {
   "cell_type": "markdown",
   "metadata": {},
   "source": [
    "Converting to datetime the 'fecha' column"
   ]
  },
  {
   "cell_type": "code",
   "execution_count": 90,
   "metadata": {},
   "outputs": [],
   "source": [
    "hechos.fecha = hechos.fecha.apply(pd.to_datetime) "
   ]
  },
  {
   "cell_type": "code",
   "execution_count": 25,
   "metadata": {},
   "outputs": [],
   "source": [
    "homicidios_hechos.FECHA = homicidios_hechos.FECHA.apply(pd.to_datetime)"
   ]
  },
  {
   "cell_type": "markdown",
   "metadata": {},
   "source": [
    "Replace nan, 'sd', and 'No Especificada' with 'SD' in ['franja_hora', 'comuna']      "
   ]
  },
  {
   "cell_type": "code",
   "execution_count": 26,
   "metadata": {},
   "outputs": [
    {
     "data": {
      "text/plain": [
       "array([9, 1, 2, 4, 8, 7, 12, 13, 19, 18, 21, 3, 15, 14, 5, 17, 23, 10, 16,\n",
       "       11, 20, 22, 0, 6, 'sd', nan], dtype=object)"
      ]
     },
     "execution_count": 26,
     "metadata": {},
     "output_type": "execute_result"
    }
   ],
   "source": [
    "hechos.franja_hora.unique()"
   ]
  },
  {
   "cell_type": "code",
   "execution_count": 93,
   "metadata": {},
   "outputs": [
    {
     "data": {
      "text/plain": [
       "array([14, 8, 7, 3, 15, 11, 9, 1, 4, 12, 2, 5, 6, 13, 10, 'SD'],\n",
       "      dtype=object)"
      ]
     },
     "execution_count": 93,
     "metadata": {},
     "output_type": "execute_result"
    }
   ],
   "source": [
    "hechos.comuna.unique()"
   ]
  },
  {
   "cell_type": "code",
   "execution_count": 91,
   "metadata": {},
   "outputs": [],
   "source": [
    "hechos.franja_hora = hechos.franja_hora.replace(['sd'], np.nan)"
   ]
  },
  {
   "cell_type": "code",
   "execution_count": 92,
   "metadata": {},
   "outputs": [],
   "source": [
    "hechos.comuna = hechos.comuna.replace(['SD', 'sd', 'No Especificada', np.nan], 'SD')"
   ]
  },
  {
   "cell_type": "markdown",
   "metadata": {},
   "source": [
    "#### Standarising the geolocation columns"
   ]
  },
  {
   "cell_type": "code",
   "execution_count": 30,
   "metadata": {},
   "outputs": [
    {
     "data": {
      "text/html": [
       "<div>\n",
       "<style scoped>\n",
       "    .dataframe tbody tr th:only-of-type {\n",
       "        vertical-align: middle;\n",
       "    }\n",
       "\n",
       "    .dataframe tbody tr th {\n",
       "        vertical-align: top;\n",
       "    }\n",
       "\n",
       "    .dataframe thead th {\n",
       "        text-align: right;\n",
       "    }\n",
       "</style>\n",
       "<table border=\"1\" class=\"dataframe\">\n",
       "  <thead>\n",
       "    <tr style=\"text-align: right;\">\n",
       "      <th></th>\n",
       "      <th>ID</th>\n",
       "      <th>N_VICTIMAS</th>\n",
       "      <th>FECHA</th>\n",
       "      <th>AAAA</th>\n",
       "      <th>MM</th>\n",
       "      <th>DD</th>\n",
       "      <th>HORA</th>\n",
       "      <th>HH</th>\n",
       "      <th>LUGAR_DEL_HECHO</th>\n",
       "      <th>TIPO_DE_CALLE</th>\n",
       "      <th>Calle</th>\n",
       "      <th>COMUNA</th>\n",
       "      <th>longitud</th>\n",
       "      <th>latitud</th>\n",
       "      <th>PARTICIPANTES</th>\n",
       "      <th>VICTIMA</th>\n",
       "      <th>ACUSADO</th>\n",
       "    </tr>\n",
       "  </thead>\n",
       "  <tbody>\n",
       "    <tr>\n",
       "      <th>38</th>\n",
       "      <td>2016-0052</td>\n",
       "      <td>1</td>\n",
       "      <td>2016-04-20</td>\n",
       "      <td>2016</td>\n",
       "      <td>4</td>\n",
       "      <td>20</td>\n",
       "      <td>NaT</td>\n",
       "      <td>20</td>\n",
       "      <td>AUTOPISTA LUGONES PK 10000</td>\n",
       "      <td>AUTOPISTA</td>\n",
       "      <td>LUGONES, LEOPOLDO AV.</td>\n",
       "      <td>13</td>\n",
       "      <td>.</td>\n",
       "      <td>.</td>\n",
       "      <td>MOTO-SD</td>\n",
       "      <td>MOTO</td>\n",
       "      <td>SD</td>\n",
       "    </tr>\n",
       "    <tr>\n",
       "      <th>106</th>\n",
       "      <td>2016-0136</td>\n",
       "      <td>1</td>\n",
       "      <td>2016-10-25</td>\n",
       "      <td>2016</td>\n",
       "      <td>10</td>\n",
       "      <td>25</td>\n",
       "      <td>NaT</td>\n",
       "      <td>0</td>\n",
       "      <td>AU BUENOS AIRES - LA PLATA KM. 4</td>\n",
       "      <td>AUTOPISTA</td>\n",
       "      <td>AUTOPISTA BUENOS AIRES - LA PLATA</td>\n",
       "      <td>4</td>\n",
       "      <td>.</td>\n",
       "      <td>.</td>\n",
       "      <td>MOTO-CARGAS</td>\n",
       "      <td>MOTO</td>\n",
       "      <td>CARGAS</td>\n",
       "    </tr>\n",
       "    <tr>\n",
       "      <th>119</th>\n",
       "      <td>2016-0151</td>\n",
       "      <td>1</td>\n",
       "      <td>2016-11-18</td>\n",
       "      <td>2016</td>\n",
       "      <td>11</td>\n",
       "      <td>18</td>\n",
       "      <td>NaT</td>\n",
       "      <td>20</td>\n",
       "      <td>SD</td>\n",
       "      <td>CALLE</td>\n",
       "      <td>NaN</td>\n",
       "      <td>0</td>\n",
       "      <td>.</td>\n",
       "      <td>.</td>\n",
       "      <td>PEATON-SD</td>\n",
       "      <td>PEATON</td>\n",
       "      <td>SD</td>\n",
       "    </tr>\n",
       "    <tr>\n",
       "      <th>139</th>\n",
       "      <td>2016-0174</td>\n",
       "      <td>1</td>\n",
       "      <td>2016-12-27</td>\n",
       "      <td>2016</td>\n",
       "      <td>12</td>\n",
       "      <td>27</td>\n",
       "      <td>NaT</td>\n",
       "      <td>0</td>\n",
       "      <td>AUTOPISTA 25 DE MAYO</td>\n",
       "      <td>AUTOPISTA</td>\n",
       "      <td>AUTOPISTA 25 DE MAYO</td>\n",
       "      <td>0</td>\n",
       "      <td>.</td>\n",
       "      <td>.</td>\n",
       "      <td>SD-SD</td>\n",
       "      <td>SD</td>\n",
       "      <td>SD</td>\n",
       "    </tr>\n",
       "    <tr>\n",
       "      <th>176</th>\n",
       "      <td>2017-0042</td>\n",
       "      <td>1</td>\n",
       "      <td>2017-04-10</td>\n",
       "      <td>2017</td>\n",
       "      <td>4</td>\n",
       "      <td>10</td>\n",
       "      <td>NaT</td>\n",
       "      <td>9</td>\n",
       "      <td>AV. LEOPOLDO LUGONES PKM 6900</td>\n",
       "      <td>GRAL PAZ</td>\n",
       "      <td>LUGONES, LEOPOLDO AV.</td>\n",
       "      <td>14</td>\n",
       "      <td>.</td>\n",
       "      <td>.</td>\n",
       "      <td>MOTO-CARGAS</td>\n",
       "      <td>MOTO</td>\n",
       "      <td>CARGAS</td>\n",
       "    </tr>\n",
       "    <tr>\n",
       "      <th>180</th>\n",
       "      <td>2017-0050</td>\n",
       "      <td>2</td>\n",
       "      <td>2017-04-28</td>\n",
       "      <td>2017</td>\n",
       "      <td>4</td>\n",
       "      <td>28</td>\n",
       "      <td>NaT</td>\n",
       "      <td>11</td>\n",
       "      <td>AU PERITO MORENO Y RAMAL ENLACE AU1/AU6</td>\n",
       "      <td>AUTOPISTA</td>\n",
       "      <td>AUTOPISTA PERITO MORENO</td>\n",
       "      <td>9</td>\n",
       "      <td>.</td>\n",
       "      <td>.</td>\n",
       "      <td>MOTO-CARGAS</td>\n",
       "      <td>MOTO</td>\n",
       "      <td>CARGAS</td>\n",
       "    </tr>\n",
       "    <tr>\n",
       "      <th>181</th>\n",
       "      <td>2017-0051</td>\n",
       "      <td>1</td>\n",
       "      <td>2017-05-01</td>\n",
       "      <td>2017</td>\n",
       "      <td>5</td>\n",
       "      <td>1</td>\n",
       "      <td>NaT</td>\n",
       "      <td>3</td>\n",
       "      <td>AU DELLEPIANE 2400</td>\n",
       "      <td>AUTOPISTA</td>\n",
       "      <td>AUTOPISTA DELLEPIANE LUIS TTE. GRAL.</td>\n",
       "      <td>7</td>\n",
       "      <td>.</td>\n",
       "      <td>.</td>\n",
       "      <td>AUTO-AUTO</td>\n",
       "      <td>AUTO</td>\n",
       "      <td>AUTO</td>\n",
       "    </tr>\n",
       "    <tr>\n",
       "      <th>256</th>\n",
       "      <td>2017-0140</td>\n",
       "      <td>1</td>\n",
       "      <td>2017-11-19</td>\n",
       "      <td>2017</td>\n",
       "      <td>11</td>\n",
       "      <td>19</td>\n",
       "      <td>NaT</td>\n",
       "      <td>23</td>\n",
       "      <td>AU ARTURO FRONDIZI PKM 3100</td>\n",
       "      <td>AUTOPISTA</td>\n",
       "      <td>AUTOPISTA 1 SUR PRESIDENTE ARTURO FRONDIZI</td>\n",
       "      <td>4</td>\n",
       "      <td>.</td>\n",
       "      <td>.</td>\n",
       "      <td>MOTO-PASAJEROS</td>\n",
       "      <td>MOTO</td>\n",
       "      <td>PASAJEROS</td>\n",
       "    </tr>\n",
       "    <tr>\n",
       "      <th>313</th>\n",
       "      <td>2018-0039</td>\n",
       "      <td>1</td>\n",
       "      <td>2018-04-21</td>\n",
       "      <td>2018</td>\n",
       "      <td>4</td>\n",
       "      <td>21</td>\n",
       "      <td>NaT</td>\n",
       "      <td>22</td>\n",
       "      <td>AUTOPISTA LUGONES KM 4.7</td>\n",
       "      <td>AUTOPISTA</td>\n",
       "      <td>LUGONES, LEOPOLDO AV.</td>\n",
       "      <td>14</td>\n",
       "      <td>.</td>\n",
       "      <td>.</td>\n",
       "      <td>PEATON-AUTO</td>\n",
       "      <td>PEATON</td>\n",
       "      <td>AUTO</td>\n",
       "    </tr>\n",
       "    <tr>\n",
       "      <th>546</th>\n",
       "      <td>2020-0026</td>\n",
       "      <td>1</td>\n",
       "      <td>2020-05-17</td>\n",
       "      <td>2020</td>\n",
       "      <td>5</td>\n",
       "      <td>17</td>\n",
       "      <td>NaT</td>\n",
       "      <td>6</td>\n",
       "      <td>LUGONES, LEOPOLDO AV. KM 6,1</td>\n",
       "      <td>AUTOPISTA</td>\n",
       "      <td>LUGONES, LEOPOLDO AV.</td>\n",
       "      <td>14</td>\n",
       "      <td>.</td>\n",
       "      <td>.</td>\n",
       "      <td>MOTO-OBJETO FIJO</td>\n",
       "      <td>MOTO</td>\n",
       "      <td>OBJETO FIJO</td>\n",
       "    </tr>\n",
       "    <tr>\n",
       "      <th>559</th>\n",
       "      <td>2020-0039</td>\n",
       "      <td>1</td>\n",
       "      <td>2020-09-01</td>\n",
       "      <td>2020</td>\n",
       "      <td>9</td>\n",
       "      <td>1</td>\n",
       "      <td>NaT</td>\n",
       "      <td>19</td>\n",
       "      <td>MURGUIONDO 2700</td>\n",
       "      <td>CALLE</td>\n",
       "      <td>MURGUIONDO</td>\n",
       "      <td>9</td>\n",
       "      <td>.</td>\n",
       "      <td>.</td>\n",
       "      <td>PEATON-CARGAS</td>\n",
       "      <td>PEATON</td>\n",
       "      <td>CARGAS</td>\n",
       "    </tr>\n",
       "    <tr>\n",
       "      <th>621</th>\n",
       "      <td>2021-0023</td>\n",
       "      <td>1</td>\n",
       "      <td>2021-03-01</td>\n",
       "      <td>2021</td>\n",
       "      <td>3</td>\n",
       "      <td>1</td>\n",
       "      <td>NaT</td>\n",
       "      <td>9</td>\n",
       "      <td>AU BUENOS AIRES LA PLATA  KM 4,5</td>\n",
       "      <td>AUTOPISTA</td>\n",
       "      <td>AUTOPISTA BUENOS AIRES - LA PLATA</td>\n",
       "      <td>4</td>\n",
       "      <td>.</td>\n",
       "      <td>.</td>\n",
       "      <td>MOTO-CARGAS</td>\n",
       "      <td>MOTO</td>\n",
       "      <td>CARGAS</td>\n",
       "    </tr>\n",
       "  </tbody>\n",
       "</table>\n",
       "</div>"
      ],
      "text/plain": [
       "            ID  N_VICTIMAS      FECHA  AAAA  MM  DD HORA  HH  \\\n",
       "38   2016-0052           1 2016-04-20  2016   4  20  NaT  20   \n",
       "106  2016-0136           1 2016-10-25  2016  10  25  NaT   0   \n",
       "119  2016-0151           1 2016-11-18  2016  11  18  NaT  20   \n",
       "139  2016-0174           1 2016-12-27  2016  12  27  NaT   0   \n",
       "176  2017-0042           1 2017-04-10  2017   4  10  NaT   9   \n",
       "180  2017-0050           2 2017-04-28  2017   4  28  NaT  11   \n",
       "181  2017-0051           1 2017-05-01  2017   5   1  NaT   3   \n",
       "256  2017-0140           1 2017-11-19  2017  11  19  NaT  23   \n",
       "313  2018-0039           1 2018-04-21  2018   4  21  NaT  22   \n",
       "546  2020-0026           1 2020-05-17  2020   5  17  NaT   6   \n",
       "559  2020-0039           1 2020-09-01  2020   9   1  NaT  19   \n",
       "621  2021-0023           1 2021-03-01  2021   3   1  NaT   9   \n",
       "\n",
       "                             LUGAR_DEL_HECHO TIPO_DE_CALLE  \\\n",
       "38                AUTOPISTA LUGONES PK 10000     AUTOPISTA   \n",
       "106         AU BUENOS AIRES - LA PLATA KM. 4     AUTOPISTA   \n",
       "119                                       SD         CALLE   \n",
       "139                     AUTOPISTA 25 DE MAYO     AUTOPISTA   \n",
       "176            AV. LEOPOLDO LUGONES PKM 6900      GRAL PAZ   \n",
       "180  AU PERITO MORENO Y RAMAL ENLACE AU1/AU6     AUTOPISTA   \n",
       "181                       AU DELLEPIANE 2400     AUTOPISTA   \n",
       "256              AU ARTURO FRONDIZI PKM 3100     AUTOPISTA   \n",
       "313                 AUTOPISTA LUGONES KM 4.7     AUTOPISTA   \n",
       "546             LUGONES, LEOPOLDO AV. KM 6,1     AUTOPISTA   \n",
       "559                          MURGUIONDO 2700         CALLE   \n",
       "621         AU BUENOS AIRES LA PLATA  KM 4,5     AUTOPISTA   \n",
       "\n",
       "                                          Calle  COMUNA longitud latitud  \\\n",
       "38                        LUGONES, LEOPOLDO AV.      13        .       .   \n",
       "106           AUTOPISTA BUENOS AIRES - LA PLATA       4        .       .   \n",
       "119                                         NaN       0        .       .   \n",
       "139                        AUTOPISTA 25 DE MAYO       0        .       .   \n",
       "176                       LUGONES, LEOPOLDO AV.      14        .       .   \n",
       "180                     AUTOPISTA PERITO MORENO       9        .       .   \n",
       "181        AUTOPISTA DELLEPIANE LUIS TTE. GRAL.       7        .       .   \n",
       "256  AUTOPISTA 1 SUR PRESIDENTE ARTURO FRONDIZI       4        .       .   \n",
       "313                       LUGONES, LEOPOLDO AV.      14        .       .   \n",
       "546                       LUGONES, LEOPOLDO AV.      14        .       .   \n",
       "559                                  MURGUIONDO       9        .       .   \n",
       "621           AUTOPISTA BUENOS AIRES - LA PLATA       4        .       .   \n",
       "\n",
       "        PARTICIPANTES VICTIMA      ACUSADO  \n",
       "38            MOTO-SD    MOTO           SD  \n",
       "106       MOTO-CARGAS    MOTO       CARGAS  \n",
       "119         PEATON-SD  PEATON           SD  \n",
       "139             SD-SD      SD           SD  \n",
       "176       MOTO-CARGAS    MOTO       CARGAS  \n",
       "180       MOTO-CARGAS    MOTO       CARGAS  \n",
       "181         AUTO-AUTO    AUTO         AUTO  \n",
       "256    MOTO-PASAJEROS    MOTO    PASAJEROS  \n",
       "313       PEATON-AUTO  PEATON         AUTO  \n",
       "546  MOTO-OBJETO FIJO    MOTO  OBJETO FIJO  \n",
       "559     PEATON-CARGAS  PEATON       CARGAS  \n",
       "621       MOTO-CARGAS    MOTO       CARGAS  "
      ]
     },
     "execution_count": 30,
     "metadata": {},
     "output_type": "execute_result"
    }
   ],
   "source": [
    "homicidios_hechos[homicidios_hechos.latitud == '.' ]"
   ]
  },
  {
   "cell_type": "code",
   "execution_count": 31,
   "metadata": {},
   "outputs": [],
   "source": [
    "homicidios_hechos.latitud = homicidios_hechos.latitud.replace('.', 0)\n",
    "homicidios_hechos.longitud = homicidios_hechos.longitud.replace('.', 0)\n",
    "homicidios_hechos.latitud = homicidios_hechos.latitud.astype(float)\n",
    "homicidios_hechos.longitud = homicidios_hechos.longitud.astype(float)"
   ]
  },
  {
   "cell_type": "code",
   "execution_count": 95,
   "metadata": {},
   "outputs": [
    {
     "name": "stderr",
     "output_type": "stream",
     "text": [
      "C:\\Users\\Borrarxxx\\AppData\\Local\\Temp\\ipykernel_9692\\4017112831.py:5: FutureWarning:\n",
      "\n",
      "The default value of regex will change from True to False in a future version.\n",
      "\n"
     ]
    }
   ],
   "source": [
    "# Define the regex pattern to match '-58' without a dot\n",
    "pattern = r'(-58)(?![.])'\n",
    "\n",
    "# Add a dot after '-58' using str.replace() and regex\n",
    "hechos.longitud = hechos.longitud.str.replace(pattern, r'\\1.')"
   ]
  },
  {
   "cell_type": "code",
   "execution_count": 96,
   "metadata": {},
   "outputs": [
    {
     "data": {
      "text/plain": [
       "array(['-58.408911', '-58.44351', '-58.468335', ..., '-58.432885960226',\n",
       "       '-58.488326609395', '-58.382894'], dtype=object)"
      ]
     },
     "execution_count": 96,
     "metadata": {},
     "output_type": "execute_result"
    }
   ],
   "source": [
    "hechos.longitud.unique()"
   ]
  },
  {
   "cell_type": "code",
   "execution_count": 97,
   "metadata": {},
   "outputs": [
    {
     "data": {
      "text/plain": [
       "{'SD', nan}"
      ]
     },
     "execution_count": 97,
     "metadata": {},
     "output_type": "execute_result"
    }
   ],
   "source": [
    "result_list = [value for value in hechos.longitud if not str(value).startswith('-58.')]\n",
    "result_list = set(result_list)\n",
    "result_list"
   ]
  },
  {
   "cell_type": "code",
   "execution_count": 104,
   "metadata": {},
   "outputs": [
    {
     "name": "stderr",
     "output_type": "stream",
     "text": [
      "C:\\Users\\Borrarxxx\\AppData\\Local\\Temp\\ipykernel_9692\\2355825015.py:5: FutureWarning:\n",
      "\n",
      "The default value of regex will change from True to False in a future version.\n",
      "\n"
     ]
    }
   ],
   "source": [
    "# Define the regex pattern to match '-58' without a dot\n",
    "pattern = r'(-34)(?![.])'\n",
    "\n",
    "# Add a dot after '-58' \n",
    "hechos.latitud = hechos.latitud.str.replace(pattern, r'\\1.')"
   ]
  },
  {
   "cell_type": "code",
   "execution_count": 105,
   "metadata": {},
   "outputs": [
    {
     "data": {
      "text/plain": [
       "array(['-34.559658', '-34.669125', '-34.677556', ..., '-34.619702288565',\n",
       "       '-34.641753304864', '-34.583083'], dtype=object)"
      ]
     },
     "execution_count": 105,
     "metadata": {},
     "output_type": "execute_result"
    }
   ],
   "source": [
    "hechos.latitud.unique()"
   ]
  },
  {
   "cell_type": "code",
   "execution_count": 106,
   "metadata": {},
   "outputs": [
    {
     "data": {
      "text/plain": [
       "{'SD', nan}"
      ]
     },
     "execution_count": 106,
     "metadata": {},
     "output_type": "execute_result"
    }
   ],
   "source": [
    "result_list_latitud = [value for value in hechos.latitud if not str(value).startswith('-58.')]\n",
    "result_list_latitud = set(result_list)\n",
    "result_list_latitud"
   ]
  },
  {
   "cell_type": "markdown",
   "metadata": {},
   "source": [
    "The 'SD' values in longitud and latutid columns will be replaced with nan values. For datatype reasons, this column contains floats."
   ]
  },
  {
   "cell_type": "code",
   "execution_count": 107,
   "metadata": {},
   "outputs": [],
   "source": [
    "hechos.latitud = hechos.latitud.replace('SD', np.nan)\n",
    "hechos.longitud = hechos.longitud.replace('SD', np.nan)"
   ]
  },
  {
   "cell_type": "code",
   "execution_count": 40,
   "metadata": {},
   "outputs": [
    {
     "data": {
      "text/plain": [
       "array(['CICLISTA', 'AUTO', 'SD', 'PEATON', 'MOTO', 'TRANSPORTE PUBLICO',\n",
       "       'CAMIONETA', 'MOVIL', 'OTRO', 'CAMION', 'MONOPATIN', 'UTILITARIO',\n",
       "       'TAXI', 'MIXTO'], dtype=object)"
      ]
     },
     "execution_count": 40,
     "metadata": {},
     "output_type": "execute_result"
    }
   ],
   "source": [
    "hechos.victima.unique()"
   ]
  },
  {
   "cell_type": "code",
   "execution_count": 41,
   "metadata": {},
   "outputs": [
    {
     "data": {
      "text/plain": [
       "array(['SD', 'AUTO', 'CICLISTA', 'MOVIL', 'CAMIONETA', 'MOTO', 'TAXI',\n",
       "       'TRANSPORTE PUBLICO', 'CAMION', 'OBJETO FIJO', 'OTRO',\n",
       "       'UTILITARIO', 'PEATON', 'MONOPATIN'], dtype=object)"
      ]
     },
     "execution_count": 41,
     "metadata": {},
     "output_type": "execute_result"
    }
   ],
   "source": [
    "hechos.acusado.unique()"
   ]
  },
  {
   "cell_type": "code",
   "execution_count": 42,
   "metadata": {},
   "outputs": [
    {
     "data": {
      "text/plain": [
       "array(['SD', 'GRAVE', 'sd', 'FATAL', 'grave'], dtype=object)"
      ]
     },
     "execution_count": 42,
     "metadata": {},
     "output_type": "execute_result"
    }
   ],
   "source": [
    "hechos.gravedad.unique()"
   ]
  },
  {
   "cell_type": "markdown",
   "metadata": {},
   "source": [
    "'gravedad' to uppercase only"
   ]
  },
  {
   "cell_type": "code",
   "execution_count": 108,
   "metadata": {},
   "outputs": [],
   "source": [
    "hechos.gravedad = hechos.gravedad.str.upper()"
   ]
  },
  {
   "cell_type": "markdown",
   "metadata": {},
   "source": [
    "Filtering the municipio json file to fit CABA"
   ]
  },
  {
   "cell_type": "code",
   "execution_count": 44,
   "metadata": {},
   "outputs": [],
   "source": [
    "comunas = municipios[municipios['nam'].str.contains('Comuna \\d+')]"
   ]
  },
  {
   "cell_type": "code",
   "execution_count": 45,
   "metadata": {},
   "outputs": [
    {
     "name": "stderr",
     "output_type": "stream",
     "text": [
      "C:\\Users\\Borrarxxx\\AppData\\Local\\Temp\\ipykernel_9692\\4255766499.py:29: UserWarning: Geometry is in a geographic CRS. Results from 'centroid' are likely incorrect. Use 'GeoSeries.to_crs()' to re-project geometries to a projected CRS before this operation.\n",
      "\n",
      "  comunas['centroid'] = comunas['geometry'].centroid\n"
     ]
    },
    {
     "data": {
      "image/png": "[encoded data removed]",
      "text/plain": [
       "<Figure size 864x576 with 1 Axes>"
      ]
     },
     "metadata": {
      "needs_background": "light"
     },
     "output_type": "display_data"
    }
   ],
   "source": [
    "import geopandas as gpd\n",
    "import matplotlib.pyplot as plt\n",
    "from matplotlib.patches import Patch\n",
    "\n",
    "comunas = municipios[municipios['nam'].str.contains('Comuna \\d+')]\n",
    "comunas = comunas.to_crs(\"EPSG:4326\")\n",
    "\n",
    "# Define colors for each Comuna\n",
    "comunas_color = {\n",
    "    f'Comuna {i}': plt.cm.tab20(i) for i in range(1, 16)\n",
    "}\n",
    "\n",
    "# Create the plot\n",
    "fig, ax = plt.subplots(figsize=(12, 8))\n",
    "legend_handles = []\n",
    "\n",
    "# Plot each Comuna with its respective color\n",
    "for comuna, color in comunas_color.items():\n",
    "    patch = Patch(color=color, label=comuna)\n",
    "    legend_handles.append(patch)\n",
    "    comunas[comunas['nam'] == comuna].plot(ax=ax, color=color)\n",
    "\n",
    "# Configure the plot\n",
    "ax.set_title(\"Comunas de Buenos Aires\")\n",
    "ax.set_xlabel(\"Longitud\")\n",
    "ax.set_ylabel(\"Latitud\")\n",
    "\n",
    "# Calculate centroids and label points\n",
    "comunas['centroid'] = comunas['geometry'].centroid\n",
    "for x, y, label in zip(comunas['centroid'].x, comunas['centroid'].y, comunas['nam']):\n",
    "    ax.text(x, y, label, fontsize=10, ha='center', va='center')\n",
    "\n",
    "# Show the legend\n",
    "ax.legend(handles=legend_handles)\n",
    "\n",
    "# Show the plot\n",
    "plt.show()\n"
   ]
  },
  {
   "cell_type": "code",
   "execution_count": 46,
   "metadata": {},
   "outputs": [
    {
     "data": {
      "text/html": [
       "<div>\n",
       "<style scoped>\n",
       "    .dataframe tbody tr th:only-of-type {\n",
       "        vertical-align: middle;\n",
       "    }\n",
       "\n",
       "    .dataframe tbody tr th {\n",
       "        vertical-align: top;\n",
       "    }\n",
       "\n",
       "    .dataframe thead th {\n",
       "        text-align: right;\n",
       "    }\n",
       "</style>\n",
       "<table border=\"1\" class=\"dataframe\">\n",
       "  <thead>\n",
       "    <tr style=\"text-align: right;\">\n",
       "      <th></th>\n",
       "      <th>gid</th>\n",
       "      <th>fna</th>\n",
       "      <th>gna</th>\n",
       "      <th>nam</th>\n",
       "      <th>in1</th>\n",
       "      <th>fdc</th>\n",
       "      <th>sag</th>\n",
       "      <th>geometry</th>\n",
       "      <th>centroid</th>\n",
       "    </tr>\n",
       "  </thead>\n",
       "  <tbody>\n",
       "    <tr>\n",
       "      <th>68</th>\n",
       "      <td>1698</td>\n",
       "      <td>Comuna 13</td>\n",
       "      <td>Comuna</td>\n",
       "      <td>Comuna 13</td>\n",
       "      <td>022091</td>\n",
       "      <td>Direc. de Catastro</td>\n",
       "      <td>IGN</td>\n",
       "      <td>MULTIPOLYGON (((-58.45535 -34.52776, -58.45404...</td>\n",
       "      <td>POINT (-58.45396 -34.55418)</td>\n",
       "    </tr>\n",
       "    <tr>\n",
       "      <th>69</th>\n",
       "      <td>1705</td>\n",
       "      <td>Comuna 1</td>\n",
       "      <td>Comuna</td>\n",
       "      <td>Comuna 1</td>\n",
       "      <td>022007</td>\n",
       "      <td>Direc. de Catastro</td>\n",
       "      <td>IGN</td>\n",
       "      <td>MULTIPOLYGON (((-58.38609 -34.57823, -58.38592...</td>\n",
       "      <td>POINT (-58.37151 -34.60644)</td>\n",
       "    </tr>\n",
       "    <tr>\n",
       "      <th>1725</th>\n",
       "      <td>1703</td>\n",
       "      <td>Comuna 3</td>\n",
       "      <td>Comuna</td>\n",
       "      <td>Comuna 3</td>\n",
       "      <td>022021</td>\n",
       "      <td>Direc. de Catastro</td>\n",
       "      <td>IGN</td>\n",
       "      <td>MULTIPOLYGON (((-58.41026 -34.59811, -58.40939...</td>\n",
       "      <td>POINT (-58.40265 -34.61384)</td>\n",
       "    </tr>\n",
       "    <tr>\n",
       "      <th>1735</th>\n",
       "      <td>1694</td>\n",
       "      <td>Comuna 7</td>\n",
       "      <td>Comuna</td>\n",
       "      <td>Comuna 7</td>\n",
       "      <td>022049</td>\n",
       "      <td>Direc. de Catastro</td>\n",
       "      <td>IGN</td>\n",
       "      <td>MULTIPOLYGON (((-58.45900 -34.61475, -58.45846...</td>\n",
       "      <td>POINT (-58.45189 -34.63655)</td>\n",
       "    </tr>\n",
       "    <tr>\n",
       "      <th>1742</th>\n",
       "      <td>1695</td>\n",
       "      <td>Comuna 10</td>\n",
       "      <td>Comuna</td>\n",
       "      <td>Comuna 10</td>\n",
       "      <td>022070</td>\n",
       "      <td>Direc. de Catastro</td>\n",
       "      <td>IGN</td>\n",
       "      <td>MULTIPOLYGON (((-58.48830 -34.62018, -58.48817...</td>\n",
       "      <td>POINT (-58.50281 -34.62784)</td>\n",
       "    </tr>\n",
       "    <tr>\n",
       "      <th>1749</th>\n",
       "      <td>1696</td>\n",
       "      <td>Comuna 11</td>\n",
       "      <td>Comuna</td>\n",
       "      <td>Comuna 11</td>\n",
       "      <td>022077</td>\n",
       "      <td>Direc. de Catastro</td>\n",
       "      <td>IGN</td>\n",
       "      <td>MULTIPOLYGON (((-58.49835 -34.59639, -58.49714...</td>\n",
       "      <td>POINT (-58.49684 -34.60610)</td>\n",
       "    </tr>\n",
       "    <tr>\n",
       "      <th>1757</th>\n",
       "      <td>1697</td>\n",
       "      <td>Comuna 15</td>\n",
       "      <td>Comuna</td>\n",
       "      <td>Comuna 15</td>\n",
       "      <td>022105</td>\n",
       "      <td>Direc. de Catastro</td>\n",
       "      <td>IGN</td>\n",
       "      <td>MULTIPOLYGON (((-58.46600 -34.57335, -58.46496...</td>\n",
       "      <td>POINT (-58.46277 -34.59188)</td>\n",
       "    </tr>\n",
       "    <tr>\n",
       "      <th>1758</th>\n",
       "      <td>1699</td>\n",
       "      <td>Comuna 14</td>\n",
       "      <td>Comuna</td>\n",
       "      <td>Comuna 14</td>\n",
       "      <td>022098</td>\n",
       "      <td>Direc. de Catastro</td>\n",
       "      <td>IGN</td>\n",
       "      <td>MULTIPOLYGON (((-58.42673 -34.55204, -58.42672...</td>\n",
       "      <td>POINT (-58.42229 -34.57387)</td>\n",
       "    </tr>\n",
       "    <tr>\n",
       "      <th>1768</th>\n",
       "      <td>1700</td>\n",
       "      <td>Comuna 2</td>\n",
       "      <td>Comuna</td>\n",
       "      <td>Comuna 2</td>\n",
       "      <td>022014</td>\n",
       "      <td>Direc. de Catastro</td>\n",
       "      <td>IGN</td>\n",
       "      <td>MULTIPOLYGON (((-58.38359 -34.57339, -58.38180...</td>\n",
       "      <td>POINT (-58.39490 -34.58579)</td>\n",
       "    </tr>\n",
       "    <tr>\n",
       "      <th>1770</th>\n",
       "      <td>1701</td>\n",
       "      <td>Comuna 8</td>\n",
       "      <td>Comuna</td>\n",
       "      <td>Comuna 8</td>\n",
       "      <td>022056</td>\n",
       "      <td>Direc. de Catastro</td>\n",
       "      <td>IGN</td>\n",
       "      <td>MULTIPOLYGON (((-58.44910 -34.65118, -58.44879...</td>\n",
       "      <td>POINT (-58.46187 -34.67452)</td>\n",
       "    </tr>\n",
       "    <tr>\n",
       "      <th>1771</th>\n",
       "      <td>1704</td>\n",
       "      <td>Comuna 6</td>\n",
       "      <td>Comuna</td>\n",
       "      <td>Comuna 6</td>\n",
       "      <td>022042</td>\n",
       "      <td>Direc. de Catastro</td>\n",
       "      <td>IGN</td>\n",
       "      <td>MULTIPOLYGON (((-58.43230 -34.60395, -58.43150...</td>\n",
       "      <td>POINT (-58.44357 -34.61684)</td>\n",
       "    </tr>\n",
       "    <tr>\n",
       "      <th>1772</th>\n",
       "      <td>1706</td>\n",
       "      <td>Comuna 4</td>\n",
       "      <td>Comuna</td>\n",
       "      <td>Comuna 4</td>\n",
       "      <td>022028</td>\n",
       "      <td>Direc. de Catastro</td>\n",
       "      <td>IGN</td>\n",
       "      <td>MULTIPOLYGON (((-58.35517 -34.61945, -58.35511...</td>\n",
       "      <td>POINT (-58.38762 -34.64210)</td>\n",
       "    </tr>\n",
       "    <tr>\n",
       "      <th>1775</th>\n",
       "      <td>1702</td>\n",
       "      <td>Comuna 9</td>\n",
       "      <td>Comuna</td>\n",
       "      <td>Comuna 9</td>\n",
       "      <td>022063</td>\n",
       "      <td>Direc. de Catastro</td>\n",
       "      <td>IGN</td>\n",
       "      <td>MULTIPOLYGON (((-58.51922 -34.63303, -58.51904...</td>\n",
       "      <td>POINT (-58.49900 -34.65175)</td>\n",
       "    </tr>\n",
       "    <tr>\n",
       "      <th>1777</th>\n",
       "      <td>1707</td>\n",
       "      <td>Comuna 5</td>\n",
       "      <td>Comuna</td>\n",
       "      <td>Comuna 5</td>\n",
       "      <td>022035</td>\n",
       "      <td>Direc. de Catastro</td>\n",
       "      <td>IGN</td>\n",
       "      <td>MULTIPOLYGON (((-58.42271 -34.59773, -58.42174...</td>\n",
       "      <td>POINT (-58.42057 -34.61737)</td>\n",
       "    </tr>\n",
       "    <tr>\n",
       "      <th>1778</th>\n",
       "      <td>1708</td>\n",
       "      <td>Comuna 12</td>\n",
       "      <td>Comuna</td>\n",
       "      <td>Comuna 12</td>\n",
       "      <td>022084</td>\n",
       "      <td>Direc. de Catastro</td>\n",
       "      <td>IGN</td>\n",
       "      <td>MULTIPOLYGON (((-58.46805 -34.57293, -58.46825...</td>\n",
       "      <td>POINT (-58.49047 -34.56632)</td>\n",
       "    </tr>\n",
       "  </tbody>\n",
       "</table>\n",
       "</div>"
      ],
      "text/plain": [
       "       gid        fna     gna        nam     in1                 fdc  sag  \\\n",
       "68    1698  Comuna 13  Comuna  Comuna 13  022091  Direc. de Catastro  IGN   \n",
       "69    1705   Comuna 1  Comuna   Comuna 1  022007  Direc. de Catastro  IGN   \n",
       "1725  1703   Comuna 3  Comuna   Comuna 3  022021  Direc. de Catastro  IGN   \n",
       "1735  1694   Comuna 7  Comuna   Comuna 7  022049  Direc. de Catastro  IGN   \n",
       "1742  1695  Comuna 10  Comuna  Comuna 10  022070  Direc. de Catastro  IGN   \n",
       "1749  1696  Comuna 11  Comuna  Comuna 11  022077  Direc. de Catastro  IGN   \n",
       "1757  1697  Comuna 15  Comuna  Comuna 15  022105  Direc. de Catastro  IGN   \n",
       "1758  1699  Comuna 14  Comuna  Comuna 14  022098  Direc. de Catastro  IGN   \n",
       "1768  1700   Comuna 2  Comuna   Comuna 2  022014  Direc. de Catastro  IGN   \n",
       "1770  1701   Comuna 8  Comuna   Comuna 8  022056  Direc. de Catastro  IGN   \n",
       "1771  1704   Comuna 6  Comuna   Comuna 6  022042  Direc. de Catastro  IGN   \n",
       "1772  1706   Comuna 4  Comuna   Comuna 4  022028  Direc. de Catastro  IGN   \n",
       "1775  1702   Comuna 9  Comuna   Comuna 9  022063  Direc. de Catastro  IGN   \n",
       "1777  1707   Comuna 5  Comuna   Comuna 5  022035  Direc. de Catastro  IGN   \n",
       "1778  1708  Comuna 12  Comuna  Comuna 12  022084  Direc. de Catastro  IGN   \n",
       "\n",
       "                                               geometry  \\\n",
       "68    MULTIPOLYGON (((-58.45535 -34.52776, -58.45404...   \n",
       "69    MULTIPOLYGON (((-58.38609 -34.57823, -58.38592...   \n",
       "1725  MULTIPOLYGON (((-58.41026 -34.59811, -58.40939...   \n",
       "1735  MULTIPOLYGON (((-58.45900 -34.61475, -58.45846...   \n",
       "1742  MULTIPOLYGON (((-58.48830 -34.62018, -58.48817...   \n",
       "1749  MULTIPOLYGON (((-58.49835 -34.59639, -58.49714...   \n",
       "1757  MULTIPOLYGON (((-58.46600 -34.57335, -58.46496...   \n",
       "1758  MULTIPOLYGON (((-58.42673 -34.55204, -58.42672...   \n",
       "1768  MULTIPOLYGON (((-58.38359 -34.57339, -58.38180...   \n",
       "1770  MULTIPOLYGON (((-58.44910 -34.65118, -58.44879...   \n",
       "1771  MULTIPOLYGON (((-58.43230 -34.60395, -58.43150...   \n",
       "1772  MULTIPOLYGON (((-58.35517 -34.61945, -58.35511...   \n",
       "1775  MULTIPOLYGON (((-58.51922 -34.63303, -58.51904...   \n",
       "1777  MULTIPOLYGON (((-58.42271 -34.59773, -58.42174...   \n",
       "1778  MULTIPOLYGON (((-58.46805 -34.57293, -58.46825...   \n",
       "\n",
       "                         centroid  \n",
       "68    POINT (-58.45396 -34.55418)  \n",
       "69    POINT (-58.37151 -34.60644)  \n",
       "1725  POINT (-58.40265 -34.61384)  \n",
       "1735  POINT (-58.45189 -34.63655)  \n",
       "1742  POINT (-58.50281 -34.62784)  \n",
       "1749  POINT (-58.49684 -34.60610)  \n",
       "1757  POINT (-58.46277 -34.59188)  \n",
       "1758  POINT (-58.42229 -34.57387)  \n",
       "1768  POINT (-58.39490 -34.58579)  \n",
       "1770  POINT (-58.46187 -34.67452)  \n",
       "1771  POINT (-58.44357 -34.61684)  \n",
       "1772  POINT (-58.38762 -34.64210)  \n",
       "1775  POINT (-58.49900 -34.65175)  \n",
       "1777  POINT (-58.42057 -34.61737)  \n",
       "1778  POINT (-58.49047 -34.56632)  "
      ]
     },
     "execution_count": 46,
     "metadata": {},
     "output_type": "execute_result"
    }
   ],
   "source": [
    "comunas"
   ]
  },
  {
   "cell_type": "code",
   "execution_count": 1,
   "metadata": {},
   "outputs": [
    {
     "ename": "NameError",
     "evalue": "name 'comunas' is not defined",
     "output_type": "error",
     "traceback": [
      "\u001b[1;31m---------------------------------------------------------------------------\u001b[0m",
      "\u001b[1;31mNameError\u001b[0m                                 Traceback (most recent call last)",
      "\u001b[1;32m~\\AppData\\Local\\Temp\\ipykernel_10704\\3716879392.py\u001b[0m in \u001b[0;36m<module>\u001b[1;34m\u001b[0m\n\u001b[1;32m----> 1\u001b[1;33m \u001b[0mcomunas\u001b[0m\u001b[1;33m=\u001b[0m\u001b[0mcomunas\u001b[0m\u001b[1;33m[\u001b[0m\u001b[1;33m[\u001b[0m\u001b[1;34m'geometry'\u001b[0m\u001b[1;33m,\u001b[0m\u001b[1;34m'nam'\u001b[0m\u001b[1;33m]\u001b[0m\u001b[1;33m]\u001b[0m\u001b[1;33m\u001b[0m\u001b[1;33m\u001b[0m\u001b[0m\n\u001b[0m\u001b[0;32m      2\u001b[0m \u001b[0mcomunas\u001b[0m\u001b[1;33m.\u001b[0m\u001b[0mrename\u001b[0m\u001b[1;33m(\u001b[0m\u001b[0mcolumns\u001b[0m\u001b[1;33m=\u001b[0m\u001b[1;33m{\u001b[0m\u001b[1;34m'nam'\u001b[0m\u001b[1;33m:\u001b[0m\u001b[1;34m'COMUNA'\u001b[0m\u001b[1;33m}\u001b[0m\u001b[1;33m,\u001b[0m \u001b[0minplace\u001b[0m\u001b[1;33m=\u001b[0m\u001b[1;32mTrue\u001b[0m\u001b[1;33m)\u001b[0m\u001b[1;33m\u001b[0m\u001b[1;33m\u001b[0m\u001b[0m\n\u001b[0;32m      3\u001b[0m \u001b[1;33m\u001b[0m\u001b[0m\n\u001b[0;32m      4\u001b[0m \u001b[0mcomunas\u001b[0m\u001b[1;33m[\u001b[0m\u001b[1;34m'COMUNA'\u001b[0m\u001b[1;33m]\u001b[0m \u001b[1;33m=\u001b[0m \u001b[0mcomunas\u001b[0m\u001b[1;33m[\u001b[0m\u001b[1;34m'COMUNA'\u001b[0m\u001b[1;33m]\u001b[0m\u001b[1;33m.\u001b[0m\u001b[0mstr\u001b[0m\u001b[1;33m.\u001b[0m\u001b[0mreplace\u001b[0m\u001b[1;33m(\u001b[0m\u001b[1;34m'Comuna'\u001b[0m\u001b[1;33m,\u001b[0m \u001b[1;34m''\u001b[0m\u001b[1;33m)\u001b[0m\u001b[1;33m.\u001b[0m\u001b[0mstr\u001b[0m\u001b[1;33m.\u001b[0m\u001b[0mstrip\u001b[0m\u001b[1;33m(\u001b[0m\u001b[1;33m)\u001b[0m\u001b[1;33m\u001b[0m\u001b[1;33m\u001b[0m\u001b[0m\n\u001b[0;32m      5\u001b[0m \u001b[1;33m\u001b[0m\u001b[0m\n",
      "\u001b[1;31mNameError\u001b[0m: name 'comunas' is not defined"
     ]
    }
   ],
   "source": [
    "comunas=comunas[['geometry','nam']]\n",
    "comunas.rename(columns={'nam':'COMUNA'}, inplace=True)\n",
    "\n",
    "comunas['COMUNA'] = comunas['COMUNA'].str.replace('Comuna', '').str.strip()\n",
    "\n",
    "# Creamos un GeoDataFrame\n",
    "gdf = gpd.GeoDataFrame(comunas, geometry='geometry')\n",
    "\n",
    "# Guardamos el GeoDataFrame como GeoJSON\n",
    "gdf.to_file('data\\comunass.json', driver='GeoJSON')"
   ]
  },
  {
   "cell_type": "code",
   "execution_count": 47,
   "metadata": {},
   "outputs": [],
   "source": [
    "# sanving it for the coroplet power bi map\n",
    "comunas.to_csv('data/mapa_comunas.csv', index=False)"
   ]
  },
  {
   "cell_type": "markdown",
   "metadata": {},
   "source": [
    "### Finding outliers\n",
    "\n",
    "I chose the IQR (Interquartile Range) method because certain columns contains values such as 'SD,' which is a extremely large value in some cases. While this value may not necessarily be an outlier, their presence can significantly skew the calculation of outliers if I had opted for the standard deviation method. In contrast, the IQR method is less susceptible to the influence of extreme outliers, making it a more robust choice for identifying and handling outliers in the data."
   ]
  },
  {
   "cell_type": "code",
   "execution_count": 48,
   "metadata": {},
   "outputs": [],
   "source": [
    "def find_outliers(df, column_name):\n",
    "    conteo = df[column_name].value_counts().to_dict()\n",
    "    \n",
    "    # Calculate the quartiles and IQR based on counts\n",
    "    counts = list(conteo.values())\n",
    "    q1, q3 = np.percentile(counts, [25, 75])\n",
    "    iqr = q3 - q1\n",
    "    \n",
    "    # Calculate the lower and upper bounds\n",
    "    lower_bound = q1 - 1.5 * iqr\n",
    "    upper_bound = q3 + 1.5 * iqr\n",
    "    \n",
    "    # Find outliers based on counts\n",
    "    outliers = {key: value for key, value in conteo.items() if value < lower_bound or value > upper_bound}\n",
    "\n",
    "    return lower_bound, upper_bound, outliers"
   ]
  },
  {
   "cell_type": "code",
   "execution_count": 49,
   "metadata": {},
   "outputs": [
    {
     "name": "stdout",
     "output_type": "stream",
     "text": [
      "lower bound:  -2918.75  and the upper bound is:  5001.25\n",
      "outliers:  {'SD': 10733, 'MOTO': 5461}\n"
     ]
    }
   ],
   "source": [
    "lower_bound, upper_bound, outliers = find_outliers(hechos, 'victima')\n",
    "print('lower bound: ',lower_bound, ' and the upper bound is: ',upper_bound)\n",
    "print('outliers: ',outliers)\n",
    "\n",
    "# from the outliers list result, the 10733 number corresponds to 'SD', which is an empty value. 5461 corresponds to MOTO, which has surpassed \n",
    "# the upper bound limit and it is an outlier."
   ]
  },
  {
   "cell_type": "code",
   "execution_count": 51,
   "metadata": {},
   "outputs": [
    {
     "name": "stdout",
     "output_type": "stream",
     "text": [
      "lower bound:  -376.0  and the upper bound is:  640.0\n",
      "outliers:  {1: 21032, 2: 2125}\n"
     ]
    }
   ],
   "source": [
    "L , U, outliers =find_outliers(hechos, 'n_victimas')\n",
    "print('lower bound: ',L, ' and the upper bound is: ',U)\n",
    "print('outliers: ',outliers)\n",
    "\n",
    "# From the outliers list result for 'n_victima' 1 a 2 victims are outliers for exceeding the upper bound limit. Additionally, there is only one \n",
    "# incident with 0 victims."
   ]
  },
  {
   "cell_type": "code",
   "execution_count": 52,
   "metadata": {},
   "outputs": [
    {
     "name": "stdout",
     "output_type": "stream",
     "text": [
      "lower bound:  -985.875  and the upper bound is:  3073.125\n",
      "outliers:  {}\n"
     ]
    }
   ],
   "source": [
    "Lo, Up, outliers_franja = find_outliers(hechos, 'franja_hora')\n",
    "print('lower bound: ',Lo , ' and the upper bound is: ',Up)\n",
    "print('outliers: ',outliers_franja)\n",
    "\n",
    "# There is no outliers for 'franja_hora' column"
   ]
  },
  {
   "cell_type": "code",
   "execution_count": 53,
   "metadata": {},
   "outputs": [
    {
     "name": "stdout",
     "output_type": "stream",
     "text": [
      "lower bound:  764.375  and the upper bound is:  2237.375\n",
      "outliers:  {1: 2526}\n"
     ]
    }
   ],
   "source": [
    "Lo, Up, outliers_comuna = find_outliers(hechos, 'comuna')\n",
    "print('lower bound: ',Lo , ' and the upper bound is: ',Up)\n",
    "print('outliers: ',outliers_comuna)\n",
    "\n",
    "# The only outlier for 'comuna' is the COMUNA 1, it has way more accidents the the others."
   ]
  },
  {
   "cell_type": "code",
   "execution_count": 54,
   "metadata": {},
   "outputs": [
    {
     "name": "stdout",
     "output_type": "stream",
     "text": [
      "lower bound:  -1114.75  and the upper bound is:  1965.25\n",
      "outliers:  {'SD': 15288, 'AUTO': 4641}\n"
     ]
    }
   ],
   "source": [
    "Lo, Up, outliers_acusado = find_outliers(hechos, 'acusado')\n",
    "print('lower bound: ',Lo , ' and the upper bound is: ',Up)\n",
    "print('outliers: ',outliers_acusado)\n",
    "\n",
    "# From the outliers list result for 'acusado' column, 'SD' values represent empty values. the only real outlier is AUTO, which has a whooping \n",
    "# 4641 value count."
   ]
  },
  {
   "cell_type": "code",
   "execution_count": 55,
   "metadata": {},
   "outputs": [
    {
     "data": {
      "text/plain": [
       "SD                    15288\n",
       "AUTO                   4641\n",
       "TRANSPORTE PUBLICO      975\n",
       "CAMIONETA               872\n",
       "MOTO                    625\n",
       "TAXI                    591\n",
       "CAMION                  288\n",
       "OBJETO FIJO             279\n",
       "MOVIL                    81\n",
       "CICLISTA                 77\n",
       "UTILITARIO               28\n",
       "OTRO                     24\n",
       "PEATON                   13\n",
       "MONOPATIN                 3\n",
       "Name: acusado, dtype: int64"
      ]
     },
     "execution_count": 55,
     "metadata": {},
     "output_type": "execute_result"
    }
   ],
   "source": [
    "#comu = hechos.comuna.value_counts()\n",
    "#cont = hechos.n_victimas.value_counts()\n",
    "#franja = hechos.franja_hora.value_counts()\n",
    "acusad = hechos.acusado.value_counts()\n",
    "acusad"
   ]
  },
  {
   "cell_type": "markdown",
   "metadata": {},
   "source": [
    "Checking duplicated values"
   ]
  },
  {
   "cell_type": "code",
   "execution_count": 109,
   "metadata": {},
   "outputs": [
    {
     "data": {
      "text/plain": [
       "0"
      ]
     },
     "execution_count": 109,
     "metadata": {},
     "output_type": "execute_result"
    }
   ],
   "source": [
    "duplicated_ids = hechos.id.duplicated().sum()\n",
    "duplicated_ids\n",
    "# There is no duplicated rows acoording to their id."
   ]
  },
  {
   "cell_type": "code",
   "execution_count": 110,
   "metadata": {},
   "outputs": [
    {
     "data": {
      "text/html": [
       "<div>\n",
       "<style scoped>\n",
       "    .dataframe tbody tr th:only-of-type {\n",
       "        vertical-align: middle;\n",
       "    }\n",
       "\n",
       "    .dataframe tbody tr th {\n",
       "        vertical-align: top;\n",
       "    }\n",
       "\n",
       "    .dataframe thead th {\n",
       "        text-align: right;\n",
       "    }\n",
       "</style>\n",
       "<table border=\"1\" class=\"dataframe\">\n",
       "  <thead>\n",
       "    <tr style=\"text-align: right;\">\n",
       "      <th></th>\n",
       "      <th>id</th>\n",
       "      <th>n_victimas</th>\n",
       "      <th>aaaa</th>\n",
       "      <th>mm</th>\n",
       "      <th>dd</th>\n",
       "      <th>fecha</th>\n",
       "      <th>hora</th>\n",
       "      <th>franja_hora</th>\n",
       "      <th>comuna</th>\n",
       "      <th>tipo_calle</th>\n",
       "      <th>longitud</th>\n",
       "      <th>latitud</th>\n",
       "      <th>victima</th>\n",
       "      <th>acusado</th>\n",
       "      <th>gravedad</th>\n",
       "    </tr>\n",
       "  </thead>\n",
       "  <tbody>\n",
       "  </tbody>\n",
       "</table>\n",
       "</div>"
      ],
      "text/plain": [
       "Empty DataFrame\n",
       "Columns: [id, n_victimas, aaaa, mm, dd, fecha, hora, franja_hora, comuna, tipo_calle, longitud, latitud, victima, acusado, gravedad]\n",
       "Index: []"
      ]
     },
     "execution_count": 110,
     "metadata": {},
     "output_type": "execute_result"
    }
   ],
   "source": [
    "columns_to_check = ['longitud', 'latitud', 'id']\n",
    "duplicates = hechos[hechos.duplicated(subset=columns_to_check, keep=False)]\n",
    "duplicates\n",
    "\n",
    "# A little further check into the possible duplicates gives 0 rows duplicated"
   ]
  },
  {
   "cell_type": "code",
   "execution_count": 59,
   "metadata": {},
   "outputs": [
    {
     "data": {
      "text/plain": [
       "3800    03:05:00\n",
       "3801    07:07:00\n",
       "3802    05:40:00\n",
       "3803    07:45:00\n",
       "3804    11:00:00\n",
       "          ...   \n",
       "3872    13:26:00\n",
       "3873    12:12:00\n",
       "3874    13:50:00\n",
       "3875    13:00:00\n",
       "3876    12:50:00\n",
       "Name: hora, Length: 77, dtype: object"
      ]
     },
     "execution_count": 59,
     "metadata": {},
     "output_type": "execute_result"
    }
   ],
   "source": [
    "hechos.hora[3800:3877]"
   ]
  },
  {
   "cell_type": "markdown",
   "metadata": {},
   "source": [
    "### Saving it as a csv file"
   ]
  },
  {
   "cell_type": "code",
   "execution_count": 112,
   "metadata": {},
   "outputs": [
    {
     "data": {
      "text/plain": [
       "Index(['id', 'n_victimas', 'aaaa', 'mm', 'dd', 'fecha', 'hora', 'franja_hora',\n",
       "       'comuna', 'tipo_calle', 'longitud', 'latitud', 'victima', 'acusado',\n",
       "       'gravedad'],\n",
       "      dtype='object')"
      ]
     },
     "execution_count": 112,
     "metadata": {},
     "output_type": "execute_result"
    }
   ],
   "source": [
    "hechos.columns"
   ]
  },
  {
   "cell_type": "code",
   "execution_count": 111,
   "metadata": {},
   "outputs": [],
   "source": [
    "hechos.to_csv('HECHOS.csv', index= False)"
   ]
  },
  {
   "cell_type": "markdown",
   "metadata": {},
   "source": [
    "## Exploring the columns and keeping relevant columns in victimas df"
   ]
  },
  {
   "cell_type": "code",
   "execution_count": 61,
   "metadata": {},
   "outputs": [
    {
     "data": {
      "text/html": [
       "<div>\n",
       "<style scoped>\n",
       "    .dataframe tbody tr th:only-of-type {\n",
       "        vertical-align: middle;\n",
       "    }\n",
       "\n",
       "    .dataframe tbody tr th {\n",
       "        vertical-align: top;\n",
       "    }\n",
       "\n",
       "    .dataframe thead th {\n",
       "        text-align: right;\n",
       "    }\n",
       "</style>\n",
       "<table border=\"1\" class=\"dataframe\">\n",
       "  <thead>\n",
       "    <tr style=\"text-align: right;\">\n",
       "      <th></th>\n",
       "      <th>ID hecho</th>\n",
       "      <th>AAA</th>\n",
       "      <th>MM</th>\n",
       "      <th>DD</th>\n",
       "      <th>FECHA</th>\n",
       "      <th>VEHICULO_VICTIMA</th>\n",
       "      <th>SEXO</th>\n",
       "      <th>EDAD_VICTIMA</th>\n",
       "      <th>GRAVEDAD</th>\n",
       "    </tr>\n",
       "  </thead>\n",
       "  <tbody>\n",
       "    <tr>\n",
       "      <th>0</th>\n",
       "      <td>LC-2019-0000053</td>\n",
       "      <td>2019</td>\n",
       "      <td>1</td>\n",
       "      <td>1</td>\n",
       "      <td>2019-01-01</td>\n",
       "      <td>sd</td>\n",
       "      <td>Varon</td>\n",
       "      <td>57</td>\n",
       "      <td>SD</td>\n",
       "    </tr>\n",
       "    <tr>\n",
       "      <th>1</th>\n",
       "      <td>LC-2019-0000063</td>\n",
       "      <td>2019</td>\n",
       "      <td>1</td>\n",
       "      <td>1</td>\n",
       "      <td>2019-01-01</td>\n",
       "      <td>sd</td>\n",
       "      <td>SD</td>\n",
       "      <td>SD</td>\n",
       "      <td>SD</td>\n",
       "    </tr>\n",
       "    <tr>\n",
       "      <th>2</th>\n",
       "      <td>LC-2019-0000079</td>\n",
       "      <td>2019</td>\n",
       "      <td>1</td>\n",
       "      <td>1</td>\n",
       "      <td>2019-01-01</td>\n",
       "      <td>sd</td>\n",
       "      <td>Varon</td>\n",
       "      <td>SD</td>\n",
       "      <td>SD</td>\n",
       "    </tr>\n",
       "    <tr>\n",
       "      <th>3</th>\n",
       "      <td>LC-2019-0000082</td>\n",
       "      <td>2019</td>\n",
       "      <td>1</td>\n",
       "      <td>1</td>\n",
       "      <td>2019-01-01</td>\n",
       "      <td>sd</td>\n",
       "      <td>Varon</td>\n",
       "      <td>45</td>\n",
       "      <td>SD</td>\n",
       "    </tr>\n",
       "    <tr>\n",
       "      <th>4</th>\n",
       "      <td>LC-2019-0000082</td>\n",
       "      <td>2019</td>\n",
       "      <td>1</td>\n",
       "      <td>1</td>\n",
       "      <td>2019-01-01</td>\n",
       "      <td>sd</td>\n",
       "      <td>Mujer</td>\n",
       "      <td>45</td>\n",
       "      <td>SD</td>\n",
       "    </tr>\n",
       "    <tr>\n",
       "      <th>...</th>\n",
       "      <td>...</td>\n",
       "      <td>...</td>\n",
       "      <td>...</td>\n",
       "      <td>...</td>\n",
       "      <td>...</td>\n",
       "      <td>...</td>\n",
       "      <td>...</td>\n",
       "      <td>...</td>\n",
       "      <td>...</td>\n",
       "    </tr>\n",
       "    <tr>\n",
       "      <th>27600</th>\n",
       "      <td>LC-2021-0451911</td>\n",
       "      <td>2021</td>\n",
       "      <td>9</td>\n",
       "      <td>11</td>\n",
       "      <td>2021-09-11</td>\n",
       "      <td>TRANSPORTE PUBLICO</td>\n",
       "      <td>Varon</td>\n",
       "      <td>87</td>\n",
       "      <td>SD</td>\n",
       "    </tr>\n",
       "    <tr>\n",
       "      <th>27601</th>\n",
       "      <td>LC-2021-0530228</td>\n",
       "      <td>2021</td>\n",
       "      <td>10</td>\n",
       "      <td>25</td>\n",
       "      <td>2021-10-25</td>\n",
       "      <td>TRANSPORTE PUBLICO</td>\n",
       "      <td>Mujer</td>\n",
       "      <td>60</td>\n",
       "      <td>SD</td>\n",
       "    </tr>\n",
       "    <tr>\n",
       "      <th>27602</th>\n",
       "      <td>LC-2021-0530228</td>\n",
       "      <td>2021</td>\n",
       "      <td>10</td>\n",
       "      <td>25</td>\n",
       "      <td>2021-10-25</td>\n",
       "      <td>TRANSPORTE PUBLICO</td>\n",
       "      <td>Mujer</td>\n",
       "      <td>32</td>\n",
       "      <td>SD</td>\n",
       "    </tr>\n",
       "    <tr>\n",
       "      <th>27603</th>\n",
       "      <td>LC-2021-0201378</td>\n",
       "      <td>2021</td>\n",
       "      <td>5</td>\n",
       "      <td>2</td>\n",
       "      <td>2021-05-02</td>\n",
       "      <td>MOTO</td>\n",
       "      <td>Varon</td>\n",
       "      <td>32</td>\n",
       "      <td>SD</td>\n",
       "    </tr>\n",
       "    <tr>\n",
       "      <th>27604</th>\n",
       "      <td>LC-2021-0229350</td>\n",
       "      <td>2021</td>\n",
       "      <td>5</td>\n",
       "      <td>19</td>\n",
       "      <td>2021-05-19</td>\n",
       "      <td>MOTO</td>\n",
       "      <td>Varon</td>\n",
       "      <td>41</td>\n",
       "      <td>SD</td>\n",
       "    </tr>\n",
       "  </tbody>\n",
       "</table>\n",
       "<p>27605 rows × 9 columns</p>\n",
       "</div>"
      ],
      "text/plain": [
       "              ID hecho   AAA  MM  DD     FECHA     VEHICULO_VICTIMA   SEXO  \\\n",
       "0      LC-2019-0000053  2019   1   1 2019-01-01                  sd  Varon   \n",
       "1      LC-2019-0000063  2019   1   1 2019-01-01                  sd     SD   \n",
       "2      LC-2019-0000079  2019   1   1 2019-01-01                  sd  Varon   \n",
       "3      LC-2019-0000082  2019   1   1 2019-01-01                  sd  Varon   \n",
       "4      LC-2019-0000082  2019   1   1 2019-01-01                  sd  Mujer   \n",
       "...                ...   ...  ..  ..        ...                 ...    ...   \n",
       "27600  LC-2021-0451911  2021   9  11 2021-09-11  TRANSPORTE PUBLICO  Varon   \n",
       "27601  LC-2021-0530228  2021  10  25 2021-10-25  TRANSPORTE PUBLICO  Mujer   \n",
       "27602  LC-2021-0530228  2021  10  25 2021-10-25  TRANSPORTE PUBLICO  Mujer   \n",
       "27603  LC-2021-0201378  2021   5   2 2021-05-02                MOTO  Varon   \n",
       "27604  LC-2021-0229350  2021   5  19 2021-05-19                MOTO  Varon   \n",
       "\n",
       "      EDAD_VICTIMA GRAVEDAD  \n",
       "0               57       SD  \n",
       "1               SD       SD  \n",
       "2               SD       SD  \n",
       "3               45       SD  \n",
       "4               45       SD  \n",
       "...            ...      ...  \n",
       "27600           87       SD  \n",
       "27601           60       SD  \n",
       "27602           32       SD  \n",
       "27603           32       SD  \n",
       "27604           41       SD  \n",
       "\n",
       "[27605 rows x 9 columns]"
      ]
     },
     "execution_count": 61,
     "metadata": {},
     "output_type": "execute_result"
    }
   ],
   "source": [
    "victimas"
   ]
  },
  {
   "cell_type": "code",
   "execution_count": 62,
   "metadata": {},
   "outputs": [
    {
     "data": {
      "text/plain": [
       "ID hecho            23785\n",
       "AAA                     3\n",
       "MM                     12\n",
       "DD                     31\n",
       "FECHA                1096\n",
       "VEHICULO_VICTIMA       14\n",
       "SEXO                    8\n",
       "EDAD_VICTIMA          191\n",
       "GRAVEDAD                4\n",
       "dtype: int64"
      ]
     },
     "execution_count": 62,
     "metadata": {},
     "output_type": "execute_result"
    }
   ],
   "source": [
    "unique_count_per_column(victimas)"
   ]
  },
  {
   "cell_type": "markdown",
   "metadata": {},
   "source": [
    "year, month, and day columns have the usual number of values. There is no weird values."
   ]
  },
  {
   "cell_type": "markdown",
   "metadata": {},
   "source": [
    "#### replacecing the nan with o for EDAD_VICTIMA columns, then turn it a int"
   ]
  },
  {
   "cell_type": "code",
   "execution_count": 64,
   "metadata": {},
   "outputs": [],
   "source": [
    "victimas.EDAD_VICTIMA = victimas.EDAD_VICTIMA.replace([np.nan, 'SD', 'sd'], 0)\n",
    "victimas.EDAD_VICTIMA = victimas.EDAD_VICTIMA.astype(int)"
   ]
  },
  {
   "cell_type": "code",
   "execution_count": 65,
   "metadata": {},
   "outputs": [
    {
     "data": {
      "text/plain": [
       "array(['SD', 'sd', 'GRAVE', 'grave'], dtype=object)"
      ]
     },
     "execution_count": 65,
     "metadata": {},
     "output_type": "execute_result"
    }
   ],
   "source": [
    "victimas.GRAVEDAD.unique()"
   ]
  },
  {
   "cell_type": "markdown",
   "metadata": {},
   "source": [
    "'SEXO' (replace 'Mujer ' with 'mujer') Tehen apply Uppercase to ['VEHICULO_VICTIMA, 'GRAVEDAD', 'SEXO']"
   ]
  },
  {
   "cell_type": "code",
   "execution_count": 66,
   "metadata": {},
   "outputs": [],
   "source": [
    "victimas.SEXO = victimas.SEXO.replace(['Mujer '], 'mujer')\n"
   ]
  },
  {
   "cell_type": "code",
   "execution_count": 68,
   "metadata": {},
   "outputs": [],
   "source": [
    "columns_to_uppercase = [ 'VEHICULO_VICTIMA', 'GRAVEDAD', 'SEXO']\n",
    "\n",
    "# Apply uppercase to the specified columns\n",
    "for column in columns_to_uppercase:\n",
    "    victimas[column] = victimas[column].str.upper()"
   ]
  },
  {
   "cell_type": "markdown",
   "metadata": {},
   "source": [
    "### Cheking outliers for victimas"
   ]
  },
  {
   "cell_type": "code",
   "execution_count": 69,
   "metadata": {},
   "outputs": [
    {
     "name": "stdout",
     "output_type": "stream",
     "text": [
      "lower bound:  -5804.0  and the upper bound is:  23784.0\n",
      "outliers:  {}\n"
     ]
    }
   ],
   "source": [
    "L, U, Outliers = find_outliers(victimas, 'SEXO')\n",
    "print('lower bound: ',L, ' and the upper bound is: ',U)\n",
    "print('outliers: ',Outliers)\n",
    "\n",
    "# There no outliers in SEXO"
   ]
  },
  {
   "cell_type": "code",
   "execution_count": 70,
   "metadata": {},
   "outputs": [
    {
     "name": "stdout",
     "output_type": "stream",
     "text": [
      "lower bound:  -532.5  and the upper bound is:  987.5\n",
      "outliers:  {0: 4473}\n"
     ]
    }
   ],
   "source": [
    "L, U, outliers = find_outliers(victimas, 'EDAD_VICTIMA')\n",
    "print('lower bound: ',L, ' and the upper bound is: ',U)\n",
    "print('outliers: ',outliers)\n",
    "\n",
    "# 0 is an empty value, it was changed from 'SD.' There is no outliers for EDAD_VICTIMA"
   ]
  },
  {
   "cell_type": "code",
   "execution_count": 71,
   "metadata": {},
   "outputs": [
    {
     "name": "stdout",
     "output_type": "stream",
     "text": [
      "lower bound:  -2245.0  and the upper bound is:  4043.0\n",
      "outliers:  {'SD': 16272, 'MOTO': 4778}\n"
     ]
    }
   ],
   "source": [
    "L, U, outliers = find_outliers(victimas, 'VEHICULO_VICTIMA')\n",
    "print('lower bound: ',L, ' and the upper bound is: ',U)\n",
    "print('outliers: ',outliers)\n",
    "\n",
    "# The outlier is MOTO, which has surpassed the upper limmit bound. 'SD' is an empty value."
   ]
  },
  {
   "cell_type": "markdown",
   "metadata": {},
   "source": [
    "### Checking duplicates"
   ]
  },
  {
   "cell_type": "code",
   "execution_count": 72,
   "metadata": {},
   "outputs": [
    {
     "data": {
      "text/plain": [
       "3820"
      ]
     },
     "execution_count": 72,
     "metadata": {},
     "output_type": "execute_result"
    }
   ],
   "source": [
    "duplicated_ids = victimas['ID hecho'].duplicated().sum()\n",
    "duplicated_ids\n",
    "# There is duplicated rows acoording to their 'ID hecho.'"
   ]
  },
  {
   "cell_type": "code",
   "execution_count": 73,
   "metadata": {},
   "outputs": [
    {
     "data": {
      "text/html": [
       "<div>\n",
       "<style scoped>\n",
       "    .dataframe tbody tr th:only-of-type {\n",
       "        vertical-align: middle;\n",
       "    }\n",
       "\n",
       "    .dataframe tbody tr th {\n",
       "        vertical-align: top;\n",
       "    }\n",
       "\n",
       "    .dataframe thead th {\n",
       "        text-align: right;\n",
       "    }\n",
       "</style>\n",
       "<table border=\"1\" class=\"dataframe\">\n",
       "  <thead>\n",
       "    <tr style=\"text-align: right;\">\n",
       "      <th></th>\n",
       "      <th>ID hecho</th>\n",
       "      <th>AAA</th>\n",
       "      <th>MM</th>\n",
       "      <th>DD</th>\n",
       "      <th>FECHA</th>\n",
       "      <th>VEHICULO_VICTIMA</th>\n",
       "      <th>SEXO</th>\n",
       "      <th>EDAD_VICTIMA</th>\n",
       "      <th>GRAVEDAD</th>\n",
       "    </tr>\n",
       "  </thead>\n",
       "  <tbody>\n",
       "    <tr>\n",
       "      <th>0</th>\n",
       "      <td>LC-2019-0000053</td>\n",
       "      <td>2019</td>\n",
       "      <td>1</td>\n",
       "      <td>1</td>\n",
       "      <td>2019-01-01</td>\n",
       "      <td>SD</td>\n",
       "      <td>VARON</td>\n",
       "      <td>57</td>\n",
       "      <td>SD</td>\n",
       "    </tr>\n",
       "    <tr>\n",
       "      <th>1</th>\n",
       "      <td>LC-2019-0000063</td>\n",
       "      <td>2019</td>\n",
       "      <td>1</td>\n",
       "      <td>1</td>\n",
       "      <td>2019-01-01</td>\n",
       "      <td>SD</td>\n",
       "      <td>SD</td>\n",
       "      <td>0</td>\n",
       "      <td>SD</td>\n",
       "    </tr>\n",
       "    <tr>\n",
       "      <th>2</th>\n",
       "      <td>LC-2019-0000079</td>\n",
       "      <td>2019</td>\n",
       "      <td>1</td>\n",
       "      <td>1</td>\n",
       "      <td>2019-01-01</td>\n",
       "      <td>SD</td>\n",
       "      <td>VARON</td>\n",
       "      <td>0</td>\n",
       "      <td>SD</td>\n",
       "    </tr>\n",
       "    <tr>\n",
       "      <th>3</th>\n",
       "      <td>LC-2019-0000082</td>\n",
       "      <td>2019</td>\n",
       "      <td>1</td>\n",
       "      <td>1</td>\n",
       "      <td>2019-01-01</td>\n",
       "      <td>SD</td>\n",
       "      <td>VARON</td>\n",
       "      <td>45</td>\n",
       "      <td>SD</td>\n",
       "    </tr>\n",
       "    <tr>\n",
       "      <th>4</th>\n",
       "      <td>LC-2019-0000082</td>\n",
       "      <td>2019</td>\n",
       "      <td>1</td>\n",
       "      <td>1</td>\n",
       "      <td>2019-01-01</td>\n",
       "      <td>SD</td>\n",
       "      <td>MUJER</td>\n",
       "      <td>45</td>\n",
       "      <td>SD</td>\n",
       "    </tr>\n",
       "    <tr>\n",
       "      <th>...</th>\n",
       "      <td>...</td>\n",
       "      <td>...</td>\n",
       "      <td>...</td>\n",
       "      <td>...</td>\n",
       "      <td>...</td>\n",
       "      <td>...</td>\n",
       "      <td>...</td>\n",
       "      <td>...</td>\n",
       "      <td>...</td>\n",
       "    </tr>\n",
       "    <tr>\n",
       "      <th>27600</th>\n",
       "      <td>LC-2021-0451911</td>\n",
       "      <td>2021</td>\n",
       "      <td>9</td>\n",
       "      <td>11</td>\n",
       "      <td>2021-09-11</td>\n",
       "      <td>TRANSPORTE PUBLICO</td>\n",
       "      <td>VARON</td>\n",
       "      <td>87</td>\n",
       "      <td>SD</td>\n",
       "    </tr>\n",
       "    <tr>\n",
       "      <th>27601</th>\n",
       "      <td>LC-2021-0530228</td>\n",
       "      <td>2021</td>\n",
       "      <td>10</td>\n",
       "      <td>25</td>\n",
       "      <td>2021-10-25</td>\n",
       "      <td>TRANSPORTE PUBLICO</td>\n",
       "      <td>MUJER</td>\n",
       "      <td>60</td>\n",
       "      <td>SD</td>\n",
       "    </tr>\n",
       "    <tr>\n",
       "      <th>27602</th>\n",
       "      <td>LC-2021-0530228</td>\n",
       "      <td>2021</td>\n",
       "      <td>10</td>\n",
       "      <td>25</td>\n",
       "      <td>2021-10-25</td>\n",
       "      <td>TRANSPORTE PUBLICO</td>\n",
       "      <td>MUJER</td>\n",
       "      <td>32</td>\n",
       "      <td>SD</td>\n",
       "    </tr>\n",
       "    <tr>\n",
       "      <th>27603</th>\n",
       "      <td>LC-2021-0201378</td>\n",
       "      <td>2021</td>\n",
       "      <td>5</td>\n",
       "      <td>2</td>\n",
       "      <td>2021-05-02</td>\n",
       "      <td>MOTO</td>\n",
       "      <td>VARON</td>\n",
       "      <td>32</td>\n",
       "      <td>SD</td>\n",
       "    </tr>\n",
       "    <tr>\n",
       "      <th>27604</th>\n",
       "      <td>LC-2021-0229350</td>\n",
       "      <td>2021</td>\n",
       "      <td>5</td>\n",
       "      <td>19</td>\n",
       "      <td>2021-05-19</td>\n",
       "      <td>MOTO</td>\n",
       "      <td>VARON</td>\n",
       "      <td>41</td>\n",
       "      <td>SD</td>\n",
       "    </tr>\n",
       "  </tbody>\n",
       "</table>\n",
       "<p>26972 rows × 9 columns</p>\n",
       "</div>"
      ],
      "text/plain": [
       "              ID hecho   AAA  MM  DD     FECHA     VEHICULO_VICTIMA   SEXO  \\\n",
       "0      LC-2019-0000053  2019   1   1 2019-01-01                  SD  VARON   \n",
       "1      LC-2019-0000063  2019   1   1 2019-01-01                  SD     SD   \n",
       "2      LC-2019-0000079  2019   1   1 2019-01-01                  SD  VARON   \n",
       "3      LC-2019-0000082  2019   1   1 2019-01-01                  SD  VARON   \n",
       "4      LC-2019-0000082  2019   1   1 2019-01-01                  SD  MUJER   \n",
       "...                ...   ...  ..  ..        ...                 ...    ...   \n",
       "27600  LC-2021-0451911  2021   9  11 2021-09-11  TRANSPORTE PUBLICO  VARON   \n",
       "27601  LC-2021-0530228  2021  10  25 2021-10-25  TRANSPORTE PUBLICO  MUJER   \n",
       "27602  LC-2021-0530228  2021  10  25 2021-10-25  TRANSPORTE PUBLICO  MUJER   \n",
       "27603  LC-2021-0201378  2021   5   2 2021-05-02                MOTO  VARON   \n",
       "27604  LC-2021-0229350  2021   5  19 2021-05-19                MOTO  VARON   \n",
       "\n",
       "       EDAD_VICTIMA GRAVEDAD  \n",
       "0                57       SD  \n",
       "1                 0       SD  \n",
       "2                 0       SD  \n",
       "3                45       SD  \n",
       "4                45       SD  \n",
       "...             ...      ...  \n",
       "27600            87       SD  \n",
       "27601            60       SD  \n",
       "27602            32       SD  \n",
       "27603            32       SD  \n",
       "27604            41       SD  \n",
       "\n",
       "[26972 rows x 9 columns]"
      ]
     },
     "execution_count": 73,
     "metadata": {},
     "output_type": "execute_result"
    }
   ],
   "source": [
    "victimas.drop_duplicates()"
   ]
  },
  {
   "cell_type": "markdown",
   "metadata": {},
   "source": [
    "### Saving it as a csv file"
   ]
  },
  {
   "cell_type": "code",
   "execution_count": 74,
   "metadata": {},
   "outputs": [],
   "source": [
    "victimas.to_csv('VICTIMAS.csv', index=False)"
   ]
  },
  {
   "cell_type": "code",
   "execution_count": 75,
   "metadata": {},
   "outputs": [],
   "source": [
    "homicidios_hechos.to_csv('data/homicidios_HECHOS.csv', index=False)\n",
    "homicidios_victimas.to_csv('data/homicidioS_VICTIMAS.csv', index=False)"
   ]
  },
  {
   "cell_type": "markdown",
   "metadata": {},
   "source": [
    "# Using some graphs to visualize the data"
   ]
  },
  {
   "cell_type": "code",
   "execution_count": 76,
   "metadata": {},
   "outputs": [
    {
     "data": {
      "image/png": "[encoded data removed]",
      "text/plain": [
       "<Figure size 576x432 with 1 Axes>"
      ]
     },
     "metadata": {
      "needs_background": "light"
     },
     "output_type": "display_data"
    },
    {
     "data": {
      "image/png": "[encoded data removed]",
      "text/plain": [
       "<Figure size 576x432 with 1 Axes>"
      ]
     },
     "metadata": {
      "needs_background": "light"
     },
     "output_type": "display_data"
    },
    {
     "data": {
      "image/png": "[encoded data removed]",
      "text/plain": [
       "<Figure size 576x432 with 1 Axes>"
      ]
     },
     "metadata": {
      "needs_background": "light"
     },
     "output_type": "display_data"
    }
   ],
   "source": [
    "# List of years to create histograms\n",
    "years = [2019, 2020, 2021]\n",
    "\n",
    "# Iterate over the years\n",
    "for year in years:\n",
    "    # Filter out rows with 'SD' or 'sd' values in 'franja_hora' column for the current year\n",
    "    filtered_df = hechos[(hechos['franja_hora'] != 0) & (hechos['aaaa'] == year)]\n",
    "    \n",
    "    # Count occurrences of each unique value in 'franja_hora' column\n",
    "    value_counts = filtered_df['franja_hora'].value_counts().sort_index()\n",
    "\n",
    "    # Create a bar plot to visualize the counts for the current year\n",
    "    plt.figure(figsize=(8, 6))\n",
    "    value_counts.plot(kind='bar', edgecolor='k')\n",
    "    plt.xlabel('franja horaria')\n",
    "    plt.ylabel('Conteo')\n",
    "    plt.title(f'Conteo de ocurrencias por franja horaria - {year}')\n",
    "    plt.xticks(rotation=45)\n",
    "    plt.show()"
   ]
  },
  {
   "cell_type": "markdown",
   "metadata": {},
   "source": [
    "### Observation:\n",
    "The hours with the highest incidence of accidents occur in the afternoon between 1 and 5 in the afternoon, and the hours with less accidents are 3 and 4 in the morning."
   ]
  },
  {
   "cell_type": "code",
   "execution_count": 77,
   "metadata": {},
   "outputs": [
    {
     "data": {
      "image/png": "[encoded data removed]",
      "text/plain": [
       "<Figure size 576x432 with 1 Axes>"
      ]
     },
     "metadata": {
      "needs_background": "light"
     },
     "output_type": "display_data"
    },
    {
     "data": {
      "image/png": "[encoded data removed]",
      "text/plain": [
       "<Figure size 576x432 with 1 Axes>"
      ]
     },
     "metadata": {
      "needs_background": "light"
     },
     "output_type": "display_data"
    },
    {
     "data": {
      "image/png": "[encoded data removed]",
      "text/plain": [
       "<Figure size 576x432 with 1 Axes>"
      ]
     },
     "metadata": {
      "needs_background": "light"
     },
     "output_type": "display_data"
    }
   ],
   "source": [
    "# List of years to create histograms\n",
    "years = [2019, 2020, 2021]\n",
    "\n",
    "# Iterate over the years\n",
    "for year in years:\n",
    "    # Filter out rows with 'SD' or 'sd' values in 'franja_hora' column for the current year\n",
    "    filtered_df = hechos[(hechos['n_victimas'] != 0) & (hechos['aaaa'] == year)]\n",
    "    \n",
    "    # Count occurrences of each unique value in 'franja_hora' column\n",
    "    value_counts = filtered_df['n_victimas'].value_counts().sort_index()\n",
    "\n",
    "    # Create a bar plot to visualize the counts for the current year\n",
    "    plt.figure(figsize=(8, 6))\n",
    "    value_counts.plot(kind='bar', edgecolor='k')\n",
    "    plt.xlabel('numero de victimas')\n",
    "    plt.ylabel('Conteo')\n",
    "    plt.title(f'Conteo de ocurrencias por numero de victimas - {year}')\n",
    "    plt.xticks(rotation=45)\n",
    "    plt.show()"
   ]
  },
  {
   "cell_type": "markdown",
   "metadata": {},
   "source": [
    "### observation:\n",
    "For all years most victims are only one person in each accident."
   ]
  },
  {
   "cell_type": "code",
   "execution_count": 78,
   "metadata": {},
   "outputs": [
    {
     "data": {
      "image/png": "[encoded data removed]",
      "text/plain": [
       "<Figure size 576x432 with 1 Axes>"
      ]
     },
     "metadata": {
      "needs_background": "light"
     },
     "output_type": "display_data"
    },
    {
     "data": {
      "image/png": "[encoded data removed]",
      "text/plain": [
       "<Figure size 576x432 with 1 Axes>"
      ]
     },
     "metadata": {
      "needs_background": "light"
     },
     "output_type": "display_data"
    },
    {
     "data": {
      "image/png": "[encoded data removed]",
      "text/plain": [
       "<Figure size 576x432 with 1 Axes>"
      ]
     },
     "metadata": {
      "needs_background": "light"
     },
     "output_type": "display_data"
    }
   ],
   "source": [
    "# Group the data by year and month and calculate the sum of victims\n",
    "monthly_victims = hechos.groupby(['aaaa', 'mm'])['n_victimas'].sum().reset_index()\n",
    "\n",
    "# Iterate over the years\n",
    "years = monthly_victims['aaaa'].unique()\n",
    "for year in years:\n",
    "    # Filter the data for the current year\n",
    "    year_data = monthly_victims[monthly_victims['aaaa'] == year]\n",
    "    \n",
    "    # line plot for the number of victims for each month\n",
    "    plt.figure(figsize=(8, 6))\n",
    "    plt.plot(year_data['mm'], year_data['n_victimas'], marker='o', linestyle='-')\n",
    "    plt.xlabel('Month')\n",
    "    plt.ylabel('Number of Victims')\n",
    "    plt.title(f'Number of Victims by Month - {year}')\n",
    "    plt.xticks(range(1, 13), ['Jan', 'Feb', 'Mar', 'Apr', 'May', 'Jun', 'Jul', 'Aug', 'Sep', 'Oct', 'Nov', 'Dec'])\n",
    "    plt.grid(True)\n",
    "    plt.show()"
   ]
  },
  {
   "cell_type": "markdown",
   "metadata": {},
   "source": [
    "### Observation:\n",
    "In 2019, an ascending curve is observed that ends with a decrease by the end of the year, in the other 2 years the opposite is observed."
   ]
  },
  {
   "cell_type": "code",
   "execution_count": 79,
   "metadata": {},
   "outputs": [
    {
     "data": {
      "application/vnd.plotly.v1+json": {
       "config": {
        "plotlyServerURL": "https://plot.ly"
       },
       "data": [
        {
         "mode": "lines+markers",
         "type": "scatter",
         "x": [
          1,
          2,
          3,
          4,
          5,
          6,
          7,
          8,
          9,
          10,
          11,
          12,
          13,
          14,
          15,
          16,
          17,
          18,
          19,
          20,
          21,
          22,
          23,
          24,
          25,
          26,
          27,
          28,
          29,
          30,
          31,
          32,
          33,
          34,
          35,
          36,
          37,
          38,
          39,
          40,
          41,
          42,
          43,
          44,
          45,
          46,
          47,
          48,
          49,
          50,
          51,
          52,
          53,
          54,
          55,
          56,
          57,
          58,
          59,
          60,
          61,
          62,
          63,
          64,
          65,
          66,
          67,
          68,
          69,
          70,
          71,
          72,
          73,
          74,
          75,
          76,
          77,
          78,
          79,
          80,
          81,
          82,
          83,
          84,
          85,
          86,
          87,
          88,
          89,
          90,
          91,
          92,
          93,
          94,
          95,
          96,
          97,
          100
         ],
         "y": [
          20,
          19,
          35,
          27,
          43,
          41,
          34,
          38,
          38,
          31,
          27,
          69,
          51,
          58,
          59,
          67,
          92,
          182,
          311,
          373,
          494,
          619,
          702,
          692,
          742,
          761,
          776,
          812,
          805,
          765,
          729,
          707,
          661,
          662,
          612,
          531,
          578,
          544,
          534,
          502,
          484,
          458,
          480,
          440,
          395,
          364,
          367,
          312,
          317,
          298,
          260,
          261,
          221,
          242,
          228,
          229,
          203,
          206,
          185,
          177,
          167,
          195,
          140,
          154,
          126,
          104,
          110,
          98,
          93,
          96,
          79,
          62,
          77,
          76,
          68,
          66,
          47,
          51,
          45,
          59,
          37,
          35,
          27,
          33,
          22,
          19,
          19,
          11,
          12,
          10,
          6,
          6,
          3,
          4,
          2,
          1,
          1,
          1
         ]
        }
       ],
       "layout": {
        "template": {
         "data": {
          "bar": [
           {
            "error_x": {
             "color": "#2a3f5f"
            },
            "error_y": {
             "color": "#2a3f5f"
            },
            "marker": {
             "line": {
              "color": "#E5ECF6",
              "width": 0.5
             },
             "pattern": {
              "fillmode": "overlay",
              "size": 10,
              "solidity": 0.2
             }
            },
            "type": "bar"
           }
          ],
          "barpolar": [
           {
            "marker": {
             "line": {
              "color": "#E5ECF6",
              "width": 0.5
             },
             "pattern": {
              "fillmode": "overlay",
              "size": 10,
              "solidity": 0.2
             }
            },
            "type": "barpolar"
           }
          ],
          "carpet": [
           {
            "aaxis": {
             "endlinecolor": "#2a3f5f",
             "gridcolor": "white",
             "linecolor": "white",
             "minorgridcolor": "white",
             "startlinecolor": "#2a3f5f"
            },
            "baxis": {
             "endlinecolor": "#2a3f5f",
             "gridcolor": "white",
             "linecolor": "white",
             "minorgridcolor": "white",
             "startlinecolor": "#2a3f5f"
            },
            "type": "carpet"
           }
          ],
          "choropleth": [
           {
            "colorbar": {
             "outlinewidth": 0,
             "ticks": ""
            },
            "type": "choropleth"
           }
          ],
          "contour": [
           {
            "colorbar": {
             "outlinewidth": 0,
             "ticks": ""
            },
            "colorscale": [
             [
              0,
              "#0d0887"
             ],
             [
              0.1111111111111111,
              "#46039f"
             ],
             [
              0.2222222222222222,
              "#7201a8"
             ],
             [
              0.3333333333333333,
              "#9c179e"
             ],
             [
              0.4444444444444444,
              "#bd3786"
             ],
             [
              0.5555555555555556,
              "#d8576b"
             ],
             [
              0.6666666666666666,
              "#ed7953"
             ],
             [
              0.7777777777777778,
              "#fb9f3a"
             ],
             [
              0.8888888888888888,
              "#fdca26"
             ],
             [
              1,
              "#f0f921"
             ]
            ],
            "type": "contour"
           }
          ],
          "contourcarpet": [
           {
            "colorbar": {
             "outlinewidth": 0,
             "ticks": ""
            },
            "type": "contourcarpet"
           }
          ],
          "heatmap": [
           {
            "colorbar": {
             "outlinewidth": 0,
             "ticks": ""
            },
            "colorscale": [
             [
              0,
              "#0d0887"
             ],
             [
              0.1111111111111111,
              "#46039f"
             ],
             [
              0.2222222222222222,
              "#7201a8"
             ],
             [
              0.3333333333333333,
              "#9c179e"
             ],
             [
              0.4444444444444444,
              "#bd3786"
             ],
             [
              0.5555555555555556,
              "#d8576b"
             ],
             [
              0.6666666666666666,
              "#ed7953"
             ],
             [
              0.7777777777777778,
              "#fb9f3a"
             ],
             [
              0.8888888888888888,
              "#fdca26"
             ],
             [
              1,
              "#f0f921"
             ]
            ],
            "type": "heatmap"
           }
          ],
          "heatmapgl": [
           {
            "colorbar": {
             "outlinewidth": 0,
             "ticks": ""
            },
            "colorscale": [
             [
              0,
              "#0d0887"
             ],
             [
              0.1111111111111111,
              "#46039f"
             ],
             [
              0.2222222222222222,
              "#7201a8"
             ],
             [
              0.3333333333333333,
              "#9c179e"
             ],
             [
              0.4444444444444444,
              "#bd3786"
             ],
             [
              0.5555555555555556,
              "#d8576b"
             ],
             [
              0.6666666666666666,
              "#ed7953"
             ],
             [
              0.7777777777777778,
              "#fb9f3a"
             ],
             [
              0.8888888888888888,
              "#fdca26"
             ],
             [
              1,
              "#f0f921"
             ]
            ],
            "type": "heatmapgl"
           }
          ],
          "histogram": [
           {
            "marker": {
             "pattern": {
              "fillmode": "overlay",
              "size": 10,
              "solidity": 0.2
             }
            },
            "type": "histogram"
           }
          ],
          "histogram2d": [
           {
            "colorbar": {
             "outlinewidth": 0,
             "ticks": ""
            },
            "colorscale": [
             [
              0,
              "#0d0887"
             ],
             [
              0.1111111111111111,
              "#46039f"
             ],
             [
              0.2222222222222222,
              "#7201a8"
             ],
             [
              0.3333333333333333,
              "#9c179e"
             ],
             [
              0.4444444444444444,
              "#bd3786"
             ],
             [
              0.5555555555555556,
              "#d8576b"
             ],
             [
              0.6666666666666666,
              "#ed7953"
             ],
             [
              0.7777777777777778,
              "#fb9f3a"
             ],
             [
              0.8888888888888888,
              "#fdca26"
             ],
             [
              1,
              "#f0f921"
             ]
            ],
            "type": "histogram2d"
           }
          ],
          "histogram2dcontour": [
           {
            "colorbar": {
             "outlinewidth": 0,
             "ticks": ""
            },
            "colorscale": [
             [
              0,
              "#0d0887"
             ],
             [
              0.1111111111111111,
              "#46039f"
             ],
             [
              0.2222222222222222,
              "#7201a8"
             ],
             [
              0.3333333333333333,
              "#9c179e"
             ],
             [
              0.4444444444444444,
              "#bd3786"
             ],
             [
              0.5555555555555556,
              "#d8576b"
             ],
             [
              0.6666666666666666,
              "#ed7953"
             ],
             [
              0.7777777777777778,
              "#fb9f3a"
             ],
             [
              0.8888888888888888,
              "#fdca26"
             ],
             [
              1,
              "#f0f921"
             ]
            ],
            "type": "histogram2dcontour"
           }
          ],
          "mesh3d": [
           {
            "colorbar": {
             "outlinewidth": 0,
             "ticks": ""
            },
            "type": "mesh3d"
           }
          ],
          "parcoords": [
           {
            "line": {
             "colorbar": {
              "outlinewidth": 0,
              "ticks": ""
             }
            },
            "type": "parcoords"
           }
          ],
          "pie": [
           {
            "automargin": true,
            "type": "pie"
           }
          ],
          "scatter": [
           {
            "fillpattern": {
             "fillmode": "overlay",
             "size": 10,
             "solidity": 0.2
            },
            "type": "scatter"
           }
          ],
          "scatter3d": [
           {
            "line": {
             "colorbar": {
              "outlinewidth": 0,
              "ticks": ""
             }
            },
            "marker": {
             "colorbar": {
              "outlinewidth": 0,
              "ticks": ""
             }
            },
            "type": "scatter3d"
           }
          ],
          "scattercarpet": [
           {
            "marker": {
             "colorbar": {
              "outlinewidth": 0,
              "ticks": ""
             }
            },
            "type": "scattercarpet"
           }
          ],
          "scattergeo": [
           {
            "marker": {
             "colorbar": {
              "outlinewidth": 0,
              "ticks": ""
             }
            },
            "type": "scattergeo"
           }
          ],
          "scattergl": [
           {
            "marker": {
             "colorbar": {
              "outlinewidth": 0,
              "ticks": ""
             }
            },
            "type": "scattergl"
           }
          ],
          "scattermapbox": [
           {
            "marker": {
             "colorbar": {
              "outlinewidth": 0,
              "ticks": ""
             }
            },
            "type": "scattermapbox"
           }
          ],
          "scatterpolar": [
           {
            "marker": {
             "colorbar": {
              "outlinewidth": 0,
              "ticks": ""
             }
            },
            "type": "scatterpolar"
           }
          ],
          "scatterpolargl": [
           {
            "marker": {
             "colorbar": {
              "outlinewidth": 0,
              "ticks": ""
             }
            },
            "type": "scatterpolargl"
           }
          ],
          "scatterternary": [
           {
            "marker": {
             "colorbar": {
              "outlinewidth": 0,
              "ticks": ""
             }
            },
            "type": "scatterternary"
           }
          ],
          "surface": [
           {
            "colorbar": {
             "outlinewidth": 0,
             "ticks": ""
            },
            "colorscale": [
             [
              0,
              "#0d0887"
             ],
             [
              0.1111111111111111,
              "#46039f"
             ],
             [
              0.2222222222222222,
              "#7201a8"
             ],
             [
              0.3333333333333333,
              "#9c179e"
             ],
             [
              0.4444444444444444,
              "#bd3786"
             ],
             [
              0.5555555555555556,
              "#d8576b"
             ],
             [
              0.6666666666666666,
              "#ed7953"
             ],
             [
              0.7777777777777778,
              "#fb9f3a"
             ],
             [
              0.8888888888888888,
              "#fdca26"
             ],
             [
              1,
              "#f0f921"
             ]
            ],
            "type": "surface"
           }
          ],
          "table": [
           {
            "cells": {
             "fill": {
              "color": "#EBF0F8"
             },
             "line": {
              "color": "white"
             }
            },
            "header": {
             "fill": {
              "color": "#C8D4E3"
             },
             "line": {
              "color": "white"
             }
            },
            "type": "table"
           }
          ]
         },
         "layout": {
          "annotationdefaults": {
           "arrowcolor": "#2a3f5f",
           "arrowhead": 0,
           "arrowwidth": 1
          },
          "autotypenumbers": "strict",
          "coloraxis": {
           "colorbar": {
            "outlinewidth": 0,
            "ticks": ""
           }
          },
          "colorscale": {
           "diverging": [
            [
             0,
             "#8e0152"
            ],
            [
             0.1,
             "#c51b7d"
            ],
            [
             0.2,
             "#de77ae"
            ],
            [
             0.3,
             "#f1b6da"
            ],
            [
             0.4,
             "#fde0ef"
            ],
            [
             0.5,
             "#f7f7f7"
            ],
            [
             0.6,
             "#e6f5d0"
            ],
            [
             0.7,
             "#b8e186"
            ],
            [
             0.8,
             "#7fbc41"
            ],
            [
             0.9,
             "#4d9221"
            ],
            [
             1,
             "#276419"
            ]
           ],
           "sequential": [
            [
             0,
             "#0d0887"
            ],
            [
             0.1111111111111111,
             "#46039f"
            ],
            [
             0.2222222222222222,
             "#7201a8"
            ],
            [
             0.3333333333333333,
             "#9c179e"
            ],
            [
             0.4444444444444444,
             "#bd3786"
            ],
            [
             0.5555555555555556,
             "#d8576b"
            ],
            [
             0.6666666666666666,
             "#ed7953"
            ],
            [
             0.7777777777777778,
             "#fb9f3a"
            ],
            [
             0.8888888888888888,
             "#fdca26"
            ],
            [
             1,
             "#f0f921"
            ]
           ],
           "sequentialminus": [
            [
             0,
             "#0d0887"
            ],
            [
             0.1111111111111111,
             "#46039f"
            ],
            [
             0.2222222222222222,
             "#7201a8"
            ],
            [
             0.3333333333333333,
             "#9c179e"
            ],
            [
             0.4444444444444444,
             "#bd3786"
            ],
            [
             0.5555555555555556,
             "#d8576b"
            ],
            [
             0.6666666666666666,
             "#ed7953"
            ],
            [
             0.7777777777777778,
             "#fb9f3a"
            ],
            [
             0.8888888888888888,
             "#fdca26"
            ],
            [
             1,
             "#f0f921"
            ]
           ]
          },
          "colorway": [
           "#636efa",
           "#EF553B",
           "#00cc96",
           "#ab63fa",
           "#FFA15A",
           "#19d3f3",
           "#FF6692",
           "#B6E880",
           "#FF97FF",
           "#FECB52"
          ],
          "font": {
           "color": "#2a3f5f"
          },
          "geo": {
           "bgcolor": "white",
           "lakecolor": "white",
           "landcolor": "#E5ECF6",
           "showlakes": true,
           "showland": true,
           "subunitcolor": "white"
          },
          "hoverlabel": {
           "align": "left"
          },
          "hovermode": "closest",
          "mapbox": {
           "style": "light"
          },
          "paper_bgcolor": "white",
          "plot_bgcolor": "#E5ECF6",
          "polar": {
           "angularaxis": {
            "gridcolor": "white",
            "linecolor": "white",
            "ticks": ""
           },
           "bgcolor": "#E5ECF6",
           "radialaxis": {
            "gridcolor": "white",
            "linecolor": "white",
            "ticks": ""
           }
          },
          "scene": {
           "xaxis": {
            "backgroundcolor": "#E5ECF6",
            "gridcolor": "white",
            "gridwidth": 2,
            "linecolor": "white",
            "showbackground": true,
            "ticks": "",
            "zerolinecolor": "white"
           },
           "yaxis": {
            "backgroundcolor": "#E5ECF6",
            "gridcolor": "white",
            "gridwidth": 2,
            "linecolor": "white",
            "showbackground": true,
            "ticks": "",
            "zerolinecolor": "white"
           },
           "zaxis": {
            "backgroundcolor": "#E5ECF6",
            "gridcolor": "white",
            "gridwidth": 2,
            "linecolor": "white",
            "showbackground": true,
            "ticks": "",
            "zerolinecolor": "white"
           }
          },
          "shapedefaults": {
           "line": {
            "color": "#2a3f5f"
           }
          },
          "ternary": {
           "aaxis": {
            "gridcolor": "white",
            "linecolor": "white",
            "ticks": ""
           },
           "baxis": {
            "gridcolor": "white",
            "linecolor": "white",
            "ticks": ""
           },
           "bgcolor": "#E5ECF6",
           "caxis": {
            "gridcolor": "white",
            "linecolor": "white",
            "ticks": ""
           }
          },
          "title": {
           "x": 0.05
          },
          "xaxis": {
           "automargin": true,
           "gridcolor": "white",
           "linecolor": "white",
           "ticks": "",
           "title": {
            "standoff": 15
           },
           "zerolinecolor": "white",
           "zerolinewidth": 2
          },
          "yaxis": {
           "automargin": true,
           "gridcolor": "white",
           "linecolor": "white",
           "ticks": "",
           "title": {
            "standoff": 15
           },
           "zerolinecolor": "white",
           "zerolinewidth": 2
          }
         }
        },
        "title": {
         "text": "Count of occurrences by age of victims"
        },
        "xaxis": {
         "title": {
          "text": "Age"
         }
        },
        "yaxis": {
         "title": {
          "text": "Count"
         }
        }
       }
      }
     },
     "metadata": {},
     "output_type": "display_data"
    }
   ],
   "source": [
    "import plotly.graph_objects as go\n",
    "\n",
    "filtered_df = victimas[victimas['EDAD_VICTIMA'] != 0]\n",
    "\n",
    "# Count occurrences of each unique value in 'EDAD_VICTIMA' column\n",
    "value_counts = filtered_df['EDAD_VICTIMA'].value_counts().sort_index()\n",
    "\n",
    "# Create a line plot using Plotly\n",
    "fig = go.Figure(data=go.Scatter(x=value_counts.index, y=value_counts.values, mode='lines+markers'))\n",
    "\n",
    "# Specify axis titles within the Scatter trace\n",
    "fig.update_layout(\n",
    "    title='Count of occurrences by age of victims'\n",
    ")\n",
    "\n",
    "# Specify axis titles\n",
    "fig.update_xaxes(title_text='Age')\n",
    "fig.update_yaxes(title_text='Count')\n",
    "\n",
    "# Show the interactive plot\n",
    "fig.show()"
   ]
  },
  {
   "cell_type": "markdown",
   "metadata": {},
   "source": [
    "### Observation: \n",
    "People between the ages of 22 and 30 have suffered the most accidents on average"
   ]
  },
  {
   "cell_type": "code",
   "execution_count": 80,
   "metadata": {},
   "outputs": [
    {
     "data": {
      "image/png": "[encoded data removed]",
      "text/plain": [
       "<Figure size 432x288 with 1 Axes>"
      ]
     },
     "metadata": {
      "needs_background": "light"
     },
     "output_type": "display_data"
    }
   ],
   "source": [
    "# Filter out rows with 'SD' or 'sd' values in 'EDAD_VICTIMA' column\n",
    "filtered_df = victimas[victimas['VEHICULO_VICTIMA'] != 'SD']\n",
    "\n",
    "# Count the occurrences of each unique age value\n",
    "DF = filtered_df['VEHICULO_VICTIMA'].value_counts()\n",
    "\n",
    "# Create a horizontal histogram\n",
    "plt.barh(DF.index, DF.values, color='blue')\n",
    "plt.xlabel('Conteo')\n",
    "plt.ylabel('Vehículo')\n",
    "plt.title('Conteo de vehículos de las víctimas')\n",
    "\n",
    "plt.show()\n"
   ]
  },
  {
   "cell_type": "markdown",
   "metadata": {},
   "source": [
    "### observation:\n",
    "It is evident that the largest number of victims were on motorcycles. Cyclists, pedestrians, and cars very close."
   ]
  },
  {
   "cell_type": "code",
   "execution_count": 81,
   "metadata": {},
   "outputs": [
    {
     "data": {
      "image/png": "[encoded data removed]",
      "text/plain": [
       "<Figure size 432x288 with 1 Axes>"
      ]
     },
     "metadata": {
      "needs_background": "light"
     },
     "output_type": "display_data"
    }
   ],
   "source": [
    "# Filter out rows with 'SD' or 'sd' values in 'EDAD_VICTIMA' column\n",
    "filtered_df = victimas[victimas['SEXO'] != 'SD']\n",
    "\n",
    "# Count the occurrences of each unique age value\n",
    "DF = filtered_df['SEXO'].value_counts()\n",
    "\n",
    "# Create a horizontal histogram\n",
    "plt.barh(DF.index, DF.values, color='blue')\n",
    "plt.xlabel('Conteo')\n",
    "plt.ylabel('SEXO')\n",
    "plt.title('Conteo de Génro de Víctimas')\n",
    "\n",
    "plt.show()"
   ]
  },
  {
   "cell_type": "markdown",
   "metadata": {},
   "source": [
    "### obsrvación:\n",
    "Los varones son lo que han sufrido en su mayoria de un accidente, razon de uno a dos."
   ]
  },
  {
   "cell_type": "code",
   "execution_count": 82,
   "metadata": {},
   "outputs": [
    {
     "data": {
      "text/plain": [
       "Index(['id', 'n_victimas', 'aaaa', 'mm', 'dd', 'fecha', 'hora', 'franja_hora',\n",
       "       'comuna', 'longitud', 'latitud', 'victima', 'acusado', 'gravedad'],\n",
       "      dtype='object')"
      ]
     },
     "execution_count": 82,
     "metadata": {},
     "output_type": "execute_result"
    }
   ],
   "source": [
    "hechos.columns"
   ]
  },
  {
   "cell_type": "code",
   "execution_count": 83,
   "metadata": {},
   "outputs": [
    {
     "data": {
      "image/png": "[encoded data removed]",
      "text/plain": [
       "<Figure size 864x432 with 1 Axes>"
      ]
     },
     "metadata": {
      "needs_background": "light"
     },
     "output_type": "display_data"
    }
   ],
   "source": [
    "victimas_por_comuna = hechos.groupby('comuna')['n_victimas'].sum().reset_index()\n",
    "plt.figure(figsize=(12, 6))\n",
    "plt.bar(victimas_por_comuna['comuna'].astype(str), victimas_por_comuna['n_victimas'], color='blue')\n",
    "plt.title('Número de Víctimas por Comuna')\n",
    "plt.xlabel('Comuna')\n",
    "plt.ylabel('Número de Víctimas')\n",
    "plt.show()\n"
   ]
  }
 ],
 "metadata": {
  "kernelspec": {
   "display_name": "base",
   "language": "python",
   "name": "python3"
  },
  "language_info": {
   "codemirror_mode": {
    "name": "ipython",
    "version": 3
   },
   "file_extension": ".py",
   "mimetype": "text/x-python",
   "name": "python",
   "nbconvert_exporter": "python",
   "pygments_lexer": "ipython3",
   "version": "3.8.5"
  },
  "orig_nbformat": 4
 },
 "nbformat": 4,
 "nbformat_minor": 2
}
